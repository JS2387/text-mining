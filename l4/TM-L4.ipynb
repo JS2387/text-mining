{
 "cells": [
  {
   "cell_type": "markdown",
   "metadata": {},
   "source": [
    "# L4: Word embeddings"
   ]
  },
  {
   "cell_type": "markdown",
   "metadata": {},
   "source": [
    "In this lab you will explore word embeddings. A **word embedding** is a mapping of words to points in a vector space such that nearby words (points) are similar in terms of their distributional properties. You will use word embedding to find similar words, and evaluate their usefulness in an inference task.\n",
    "\n",
    "You will use the word vectors that come with [spaCy](http://spacy.io). Note that you will need the &lsquo;large&rsquo; English language model; the &lsquo;small&rsquo; model that you used in previous labs does not include proper word vectors."
   ]
  },
  {
   "cell_type": "markdown",
   "metadata": {},
   "source": [
    "**Reminder about our [Rules for hand-in assignments](https://www.ida.liu.se/~TDDE16/exam.en.shtml#handins) and the [Policy on cheating and plagiarism](https://www.ida.liu.se/~TDDE16/exam.en.shtml#cheating)**"
   ]
  },
  {
   "cell_type": "code",
   "execution_count": 4,
   "metadata": {},
   "outputs": [],
   "source": [
    "import spacy\n",
    "\n",
    "nlp = spacy.load('en_core_web_lg')"
   ]
  },
  {
   "cell_type": "markdown",
   "metadata": {},
   "source": [
    "Every word in the model&rsquo;s vocabulary comes with a 300-dimensional vector, represented as a NumPy array. The following code cell shows how to access the vector for the word *cheese*:"
   ]
  },
  {
   "cell_type": "code",
   "execution_count": 2,
   "metadata": {},
   "outputs": [
    {
     "data": {
      "text/plain": [
       "array([ 1.3884e+00, -1.3481e+00, -1.7638e+00, -3.2299e-01,  2.8968e+00,\n",
       "       -3.4742e+00,  1.5614e+00,  4.1019e+00, -2.3339e+00,  7.7066e-01,\n",
       "        5.4667e+00, -4.3539e+00,  2.1411e+00,  1.0337e+00,  2.1333e+00,\n",
       "       -5.2507e+00, -8.4292e-01,  1.6601e+00,  8.0711e-01, -1.3815e+00,\n",
       "       -3.0533e+00,  1.3261e+00, -1.5997e+00,  9.7612e-01, -4.8395e+00,\n",
       "       -1.1163e+00, -5.6145e+00,  2.0262e+00, -1.7511e+00, -3.1134e+00,\n",
       "        1.3560e+00, -6.7027e-01, -9.2217e-02, -1.5939e+00, -1.1572e+00,\n",
       "       -3.2397e+00,  2.8394e+00,  1.9167e+00, -1.8530e+00,  9.4867e-01,\n",
       "        7.9217e-01,  2.8105e-01,  2.3105e+00, -2.0119e+00,  3.6931e+00,\n",
       "       -2.1588e+00,  9.3177e-01,  2.4037e-01, -1.9010e+00,  5.0660e-01,\n",
       "        1.3864e-01,  3.2558e-01, -7.1408e-01, -1.5416e+00, -1.7270e-01,\n",
       "       -3.7842e+00, -8.8674e-01,  3.5418e+00,  5.5733e+00,  2.0573e+00,\n",
       "        3.4798e+00, -1.4878e+00,  3.5792e+00,  1.6799e+00,  1.9810e+00,\n",
       "        4.5659e-01, -4.8671e+00, -1.0939e+00,  1.8729e+00,  3.8079e-01,\n",
       "       -2.0411e+00,  4.5475e+00, -1.3227e+00,  3.0308e-01,  1.1948e+00,\n",
       "       -8.8515e-02, -1.1777e+00, -7.6575e-01,  2.4841e+00, -4.1790e+00,\n",
       "       -2.0134e-02,  3.2892e+00,  2.5310e+00,  1.9154e+00,  9.8374e-01,\n",
       "        1.7836e+00,  4.1789e+00, -5.8213e-01, -2.5681e+00, -4.4717e-01,\n",
       "       -1.0710e+00,  6.9689e-01,  2.1409e+00, -3.2749e+00,  6.2228e-01,\n",
       "       -4.2538e+00,  2.8515e+00, -1.5773e+00,  4.6827e-01, -5.3577e+00,\n",
       "        7.6761e-01, -6.4307e+00,  1.1678e+00, -4.9671e+00,  8.9364e-01,\n",
       "        1.3738e+00, -3.4116e+00,  1.7091e+00, -5.9006e-01,  1.6816e+00,\n",
       "       -9.7807e-01, -8.4070e-01,  2.9247e+00, -4.8812e-01, -8.3213e-01,\n",
       "        1.4160e+00,  2.5266e+00, -3.4312e+00, -1.2447e+00,  5.2493e-01,\n",
       "       -2.2763e+00,  2.4927e+00,  1.4258e+00,  1.4060e-01, -8.8734e-01,\n",
       "       -3.6677e+00, -2.6953e+00, -7.2544e+00,  2.7651e+00,  4.1790e-01,\n",
       "        1.6537e+00, -9.8700e-01,  3.9321e+00,  3.0735e+00,  1.2456e+00,\n",
       "       -2.5382e+00, -5.5569e+00, -5.9164e+00, -3.8858e-01,  1.5926e+00,\n",
       "       -2.5065e+00,  4.7262e-01, -6.6834e-01, -3.0059e+00, -1.1209e+00,\n",
       "        1.6412e+00,  1.3812e+00, -5.4792e-01, -2.1838e+00, -4.1661e+00,\n",
       "       -7.0874e-01,  2.2357e+00, -2.6963e+00,  1.8615e+00, -3.1347e+00,\n",
       "        3.5754e+00,  7.8735e+00, -3.1102e+00,  4.1935e+00, -3.9018e+00,\n",
       "        1.2365e+00, -5.2160e+00,  6.6975e-01, -2.4462e+00,  5.6660e+00,\n",
       "       -1.1958e+00, -8.1193e-01, -8.0200e-01,  1.4603e+00,  3.5220e+00,\n",
       "       -4.5273e-01, -2.7622e+00,  1.7210e-01,  5.0705e+00, -3.0186e+00,\n",
       "        8.6103e-01, -3.5594e-02, -3.1561e+00,  1.5217e+00,  1.5761e+00,\n",
       "        4.3753e-02,  9.8257e-01, -1.5940e+00, -1.6091e+00, -1.4190e+00,\n",
       "       -2.3894e+00,  3.4742e+00, -4.0268e+00, -1.9277e+00,  6.7517e-01,\n",
       "       -1.2748e+00,  3.1171e+00, -2.7852e-02,  4.3648e+00,  4.0102e-01,\n",
       "       -2.5325e+00, -1.6025e+00, -9.0196e-01,  2.8372e+00,  6.4936e-01,\n",
       "        1.1164e+00, -7.4527e-01, -2.0418e-01, -7.6327e-01,  1.9218e+00,\n",
       "        1.6434e+00, -1.7192e+00,  2.1966e-01,  3.0833e+00,  5.9032e+00,\n",
       "        1.4948e+00, -5.0240e-01, -3.6936e-01,  2.8925e+00,  2.1967e+00,\n",
       "       -2.1085e+00, -2.4883e+00,  1.3903e+00, -3.3469e+00, -1.9519e+00,\n",
       "        7.7250e-01, -2.5019e+00, -2.5287e+00,  1.4665e+00,  4.1027e-01,\n",
       "       -5.0698e+00, -2.9202e+00,  1.6508e+00,  1.3309e-01,  4.4345e-01,\n",
       "       -3.8792e+00, -3.1565e+00, -5.5343e-01, -2.0542e+00, -4.7631e+00,\n",
       "        3.1039e+00, -1.0932e+00,  4.1594e+00, -1.4190e+00,  5.0581e-01,\n",
       "       -1.6751e+00, -2.3863e+00, -2.0166e-02,  8.2405e+00, -8.0019e-03,\n",
       "        1.4223e+00,  1.1576e+00,  1.6662e+00, -1.1065e+00, -1.3478e+00,\n",
       "       -3.4033e+00,  4.4437e+00, -4.4040e+00, -1.8179e+00, -1.4033e+00,\n",
       "       -3.5456e+00, -1.4759e+00,  4.4057e+00, -2.8570e+00,  1.8745e+00,\n",
       "        2.4322e+00,  4.2190e+00, -5.2139e+00, -8.0310e-01, -1.1694e+00,\n",
       "        4.1949e-01,  1.3817e+00, -9.5207e-01, -6.1230e+00,  3.5658e-01,\n",
       "       -3.0250e-01,  4.8151e-01,  3.3893e+00,  3.2385e+00, -2.0818e-01,\n",
       "       -1.0083e+00,  1.6409e+00,  4.1306e+00, -7.7224e-02,  5.1378e-01,\n",
       "       -4.6176e-01, -3.7429e+00, -3.1910e+00, -1.1232e+00, -1.6146e+00,\n",
       "       -1.8027e+00, -2.8476e+00, -2.5430e+00, -5.0802e+00,  4.4539e+00,\n",
       "        8.4336e-02, -2.2376e+00,  1.4845e+00, -7.4707e+00, -1.9918e+00,\n",
       "        1.2051e-01,  3.4980e+00,  5.4610e+00,  2.1546e+00,  6.7850e-01],\n",
       "      dtype=float32)"
      ]
     },
     "execution_count": 2,
     "metadata": {},
     "output_type": "execute_result"
    }
   ],
   "source": [
    "nlp.vocab['cheese'].vector"
   ]
  },
  {
   "cell_type": "markdown",
   "metadata": {},
   "source": [
    "## Problem 1: Finding similar words"
   ]
  },
  {
   "cell_type": "markdown",
   "metadata": {},
   "source": [
    "Your first task is to use the word embeddings to find similar words. More specifically, we ask you to write a function `most_similar` that takes a vector $x$ and returns a list with the 10 most similar entries in spaCy&rsquo;s vocabulary, with similarity being defined by cosine.\n",
    "\n",
    "**Tip:** spaCy already has a [`most_similar`](https://spacy.io/api/vectors#most_similar) method that you can wrap."
   ]
  },
  {
   "cell_type": "code",
   "execution_count": 5,
   "metadata": {},
   "outputs": [],
   "source": [
    "# TODO: Enter your implementation of `most_similar` here\n",
    "\n",
    "import numpy as np\n",
    "\n",
    "def most_similar(x):\n",
    "    keys, best_rows, scores = nlp.vocab.vectors.most_similar(np.asarray([x]), n = 10)\n",
    "    ms_result = []\n",
    "    for i in keys[0]:\n",
    "        ms_result.append(nlp.vocab[i])\n",
    "    return ms_result"
   ]
  },
  {
   "cell_type": "markdown",
   "metadata": {},
   "source": [
    "Test your implementation by running the following code cell, which will print the 10 most similar words for the word *cheese*:"
   ]
  },
  {
   "cell_type": "code",
   "execution_count": 4,
   "metadata": {},
   "outputs": [
    {
     "name": "stdout",
     "output_type": "stream",
     "text": [
      "cheese cheesed cheesey cheeses headcheese cheesesteak -St cheesesteaks -Cheese theese\n"
     ]
    }
   ],
   "source": [
    "print(' '.join(w.text for w in most_similar(nlp.vocab['cheese'].vector)))"
   ]
  },
  {
   "cell_type": "code",
   "execution_count": 5,
   "metadata": {},
   "outputs": [
    {
     "name": "stdout",
     "output_type": "stream",
     "text": [
      "burger hamburger cheeseburger Fatburger burgers Bitburger Whataburger Cheeseburger hamburgers cheeseburgers\n"
     ]
    }
   ],
   "source": [
    "print(' '.join(w.text for w in most_similar(nlp.vocab['burger'].vector)))"
   ]
  },
  {
   "cell_type": "markdown",
   "metadata": {},
   "source": [
    "You should get the following output:"
   ]
  },
  {
   "cell_type": "raw",
   "metadata": {},
   "source": [
    "CHEESE cheese Cheese Cheddar cheddar CHEDDAR BACON Bacon bacon cheeses"
   ]
  },
  {
   "cell_type": "markdown",
   "metadata": {},
   "source": [
    "Once you have a working implementation of `most_similar`, use it to think about in what sense the returned words really are &lsquo;similar&rsquo; to the cue word. Try to find examples where the cue word and at least one of the words returned by `most_similar` are in the following semantic relations:\n",
    "\n",
    "1. synonymy (exchangeable meanings)\n",
    "2. antonymy (opposite meanings)\n",
    "3. hyperonymy/hyponymy (more specific/less specific meanings)\n",
    "\n",
    "Document your examples in the code cell below."
   ]
  },
  {
   "cell_type": "code",
   "execution_count": 6,
   "metadata": {},
   "outputs": [
    {
     "name": "stdout",
     "output_type": "stream",
     "text": [
      "angry upset annoyed jealous Hangry scared embarrassed unhappy unembarrassed hangry\n",
      "male female male- /female male(s)/female Yixuan fema females Aumale males\n",
      "jeans denim pantsuits leggings trousers sweatpants pants jean pantsuit waistcoats\n"
     ]
    }
   ],
   "source": [
    "# TODO: Insert code here to generate your examples\n",
    "\n",
    "print(' '.join(w.text for w in most_similar(nlp.vocab['angry'].vector))) #synonymy\n",
    "\n",
    "print(' '.join(w.text for w in most_similar(nlp.vocab['male'].vector))) #antonymy\n",
    "\n",
    "print(' '.join(w.text for w in most_similar(nlp.vocab['jeans'].vector))) #hyponymy"
   ]
  },
  {
   "cell_type": "markdown",
   "metadata": {},
   "source": [
    "## Problem 2: Plotting similar words"
   ]
  },
  {
   "cell_type": "markdown",
   "metadata": {},
   "source": [
    "Your next task is to visualize the word embedding space by a plot. To do so, you will have to reduce the dimensionality of the space from 300 to 2&nbsp;dimensions. One suitable algorithm for this is [T-distributed Stochastic Neighbor Embedding](https://en.wikipedia.org/wiki/T-distributed_stochastic_neighbor_embedding) (TSNE), which is implemented in scikit-learn&rsquo;s [TSNE](https://scikit-learn.org/stable/modules/generated/sklearn.manifold.TSNE.html) class.\n",
    "\n",
    "Write a function `plot_most_similar` that takes a list of words (lexemes) and does the following:\n",
    "\n",
    "1. For each word in the list, find the most similar words (lexemes) in the spaCy vocabulary.\n",
    "2. Compute the TSNE transformation of the corresponding vectors to 2&nbsp;dimensions.\n",
    "3. Produce a scatter plot of the transformed vectors, with the vectors as points and the corresponding word forms as labels."
   ]
  },
  {
   "cell_type": "code",
   "execution_count": 7,
   "metadata": {},
   "outputs": [],
   "source": [
    "# TODO: Write code here to plot the most similar words\n",
    "from sklearn.manifold import TSNE\n",
    "import matplotlib.pyplot as plt\n",
    "\n",
    "\n",
    "\n",
    "def plot_most_similar(word):\n",
    "    \n",
    "    #convert generator object to list of spacy lexemes\n",
    "    word = list(word)\n",
    "    \n",
    "    #find most similar words to each word in list\n",
    "    ms_words = ([most_similar(lex.vector) for lex in word])\n",
    "    \n",
    "    #append most similar words to word list \n",
    "    ms_words_concat = np.append(word, ms_words)\n",
    "    \n",
    "    #vectorize the word list before dimensionality reduction\n",
    "    ms_words_vectorized = ([i.vector for i in ms_words_concat])\n",
    "    \n",
    "    #TSNE transformation\n",
    "    X_embedded = TSNE(n_components=2).fit_transform(ms_words_vectorized)\n",
    "    \n",
    "    #find text labels for each word to be plotted\n",
    "    labels = ([i.text for i in ms_words_concat])\n",
    "    \n",
    "    #create scatter plot\n",
    "    plt.figure(figsize=(10,10))\n",
    "    plt.scatter(X_embedded[:,0], X_embedded[:,1])\n",
    "    \n",
    "    #annotate labels onto plot\n",
    "    for i in range(len(labels)):\n",
    "        plt.annotate(labels[i], (X_embedded[i,0], X_embedded[i,1]))\n",
    "    \n",
    "    return plt.show()\n",
    "    \n",
    "    "
   ]
  },
  {
   "cell_type": "markdown",
   "metadata": {},
   "source": [
    "Test your code by running the following cell:"
   ]
  },
  {
   "cell_type": "code",
   "execution_count": 8,
   "metadata": {},
   "outputs": [
    {
     "data": {
      "image/png": "[encoded data removed]",
      "text/plain": [
       "<Figure size 720x720 with 1 Axes>"
      ]
     },
     "metadata": {
      "needs_background": "light"
     },
     "output_type": "display_data"
    }
   ],
   "source": [
    "plot_most_similar(nlp.vocab[w] for w in ['cheese', 'goat', 'sweden', 'university', 'computer'])"
   ]
  },
  {
   "cell_type": "markdown",
   "metadata": {},
   "source": [
    "Take a few minutes to look at your plot. What does it tell you? What does it *not* tell you?\n",
    "\n",
    "*We see clusters of similar words together based on their distances from each other after the TSNE transformation. What it doesn't tell us is the true 'dissimilarity' between these so called clusters. The algorithm essentially minimizes the KL-divergence between the joint probabilities of the similar words in the higher dimension vs lower dimension. It doesnt reflect if whether these clusters are as close to each other or not. The dimensionality transformation in t-SNE is different from PCA in the way the it doesn't conserve how far apart dissimilar points might be. The new axes will be based on relative distance separating the points which may not be a correct representation of how similar or dissimilar some of the words are.*"
   ]
  },
  {
   "cell_type": "markdown",
   "metadata": {},
   "source": [
    "## Problem 3: Analogies"
   ]
  },
  {
   "cell_type": "markdown",
   "metadata": {},
   "source": [
    "In a **word analogy task** you are given three words $x$, $y$, $z$ and have to predict a word $w$ that has the same semantic relation to $z$ as $y$ has to $x$. One example is *man*, *woman*, *brother*, the expected answer being *sister* (the semantic relation is *male*/*female*).\n",
    "\n",
    "[Mikolov et al. (2013)](http://www.aclweb.org/anthology/N13-1090) have shown that some types of word analogy tasks can be solved by adding and substracting word vectors in a word embedding: the vector for *sister* is the closest vector (in terms of cosine distance) to the vector *brother* $-$ *man* $+$ *woman*. Your next task is to write a function `fourth` that takes in three words (say *brother*, *man*, *woman*) and predicts the word that completes the analogy (in this case, *sister*)."
   ]
  },
  {
   "cell_type": "code",
   "execution_count": 9,
   "metadata": {},
   "outputs": [],
   "source": [
    "# TODO: Enter code here to solve the analogy problem\n",
    "\n",
    "def fourth(x,y,z):\n",
    "    result_vector = x.vector/np.linalg.norm(x.vector) - y.vector/np.linalg.norm(y.vector) + z.vector/np.linalg.norm(z.vector)\n",
    "    key,_,_ = nlp.vocab.vectors.most_similar(result_vector.reshape(1,-1), n = 1)\n",
    "    return nlp.vocab[key[0]]\n",
    "     \n",
    "\n",
    "#def fourth1(x,y,z):\n",
    "#    result_vector = x.vector - y.vector + z.vector\n",
    "#    result = most_similar(result_vector)\n",
    "#    return result[1]"
   ]
  },
  {
   "cell_type": "markdown",
   "metadata": {},
   "source": [
    "Test your code by running the following code. You should get *sister*."
   ]
  },
  {
   "cell_type": "code",
   "execution_count": 10,
   "metadata": {},
   "outputs": [
    {
     "data": {
      "text/plain": [
       "'sister'"
      ]
     },
     "execution_count": 10,
     "metadata": {},
     "output_type": "execute_result"
    }
   ],
   "source": [
    "fourth(nlp.vocab['brother'], nlp.vocab['man'], nlp.vocab['woman']).text"
   ]
  },
  {
   "cell_type": "markdown",
   "metadata": {},
   "source": [
    "You should also be able to get the following:\n",
    "\n",
    "* *Stockholm* $-$ *Sweden* $+$ *Germany* $=$ *Berlin*\n",
    "* *Swedish* $-$ *Sweden* $+$ *France* $=$ *French*\n",
    "* *better* $-$ *good* $+$ *bad* $=$ *worse*\n",
    "* *walked* $-$ *walk* $+$ *take* $=$ *took*\n",
    "\n",
    "Experiment with other examples to see whether you get the expected output. Provide three examples of analogies for which the model produces the &lsquo;correct&rsquo; answer, and three examples on which the model &lsquo;failed&rsquo;. Based on your theoretical understanding of word embeddings, do you have a hypothesis as to why the model succeeds/fails in completing the analogy? Discuss this question in a short text."
   ]
  },
  {
   "cell_type": "code",
   "execution_count": 11,
   "metadata": {},
   "outputs": [
    {
     "name": "stdout",
     "output_type": "stream",
     "text": [
      "Berlin\n"
     ]
    }
   ],
   "source": [
    "print(fourth(nlp.vocab['Stockholm'], nlp.vocab['Sweden'], nlp.vocab['Germany']).text)\n",
    "#print(fourth1(nlp.vocab['Stockholm'], nlp.vocab['Sweden'], nlp.vocab['Germany']).text)"
   ]
  },
  {
   "cell_type": "code",
   "execution_count": 12,
   "metadata": {},
   "outputs": [
    {
     "name": "stdout",
     "output_type": "stream",
     "text": [
      "French\n"
     ]
    }
   ],
   "source": [
    "print(fourth(nlp.vocab['Swedish'], nlp.vocab['Sweden'], nlp.vocab['France']).text)\n",
    "#print(fourth1(nlp.vocab['Swedish'], nlp.vocab['Sweden'], nlp.vocab['France']).text)"
   ]
  },
  {
   "cell_type": "code",
   "execution_count": 13,
   "metadata": {},
   "outputs": [
    {
     "name": "stdout",
     "output_type": "stream",
     "text": [
      "worse\n"
     ]
    }
   ],
   "source": [
    "print(fourth(nlp.vocab['better'], nlp.vocab['good'], nlp.vocab['bad']).text)\n",
    "#print(fourth1(nlp.vocab['better'], nlp.vocab['good'], nlp.vocab['bad']).text)"
   ]
  },
  {
   "cell_type": "code",
   "execution_count": 14,
   "metadata": {},
   "outputs": [
    {
     "name": "stdout",
     "output_type": "stream",
     "text": [
      "took\n"
     ]
    }
   ],
   "source": [
    "print(fourth(nlp.vocab['walked'], nlp.vocab['walk'], nlp.vocab['take']).text)\n",
    "#print(fourth1(nlp.vocab['walked'], nlp.vocab['walk'], nlp.vocab['take']).text)"
   ]
  },
  {
   "cell_type": "code",
   "execution_count": 31,
   "metadata": {},
   "outputs": [
    {
     "name": "stdout",
     "output_type": "stream",
     "text": [
      "king\n",
      "puppy\n",
      "movie\n",
      "eat\n",
      "France\n"
     ]
    }
   ],
   "source": [
    "print(fourth(nlp.vocab['king'], nlp.vocab['male'], nlp.vocab['female']).text) #expect queen\n",
    "print(fourth(nlp.vocab['puppy'], nlp.vocab['dog'], nlp.vocab['cat']).text) #expect kitten\n",
    "print(fourth(nlp.vocab['book'], nlp.vocab['read'], nlp.vocab['movie']).text) #expect watch\n",
    "print(fourth(nlp.vocab['eat'], nlp.vocab['food'], nlp.vocab['drink']).text) #expect drink\n",
    "print(fourth(nlp.vocab['Egypt'], nlp.vocab['pyramid'], nlp.vocab['France']).text) #expect eiffel tower"
   ]
  },
  {
   "cell_type": "code",
   "execution_count": 16,
   "metadata": {},
   "outputs": [
    {
     "name": "stdout",
     "output_type": "stream",
     "text": [
      "teeth\n",
      "dogs\n"
     ]
    }
   ],
   "source": [
    "print(fourth(nlp.vocab['eyes'], nlp.vocab['eye'], nlp.vocab['tooth']).text) #expect teeth\n",
    "print(fourth(nlp.vocab['children'], nlp.vocab['child'], nlp.vocab['dog']).text) #expect dogs"
   ]
  },
  {
   "cell_type": "markdown",
   "metadata": {},
   "source": [
    "*After testing quite vigorously, we come to the conclusion that word embeddings work well only with close similarity between words. To elaborate, we tried very simple analogies like the default set given in the lab which works because there is a similarity between words being considered for drawing the analogy. When we tried some more common analogies, the model fails spectaculrly because the words we using to build the analogy are not similar. This was checked by first check most_similar words for the words we use in the analogy. Only if we use very similar words is when we get a good output analogy.*"
   ]
  },
  {
   "cell_type": "markdown",
   "metadata": {},
   "source": [
    "**After your feedback we tried to change the man-woman analogy to male-female but our results are still inaccurate.**"
   ]
  },
  {
   "cell_type": "markdown",
   "metadata": {},
   "source": [
    "## Natural language inference dataset"
   ]
  },
  {
   "cell_type": "markdown",
   "metadata": {},
   "source": [
    "In the second part of this lab, you will be evaluating the usefulness of word embeddings in the context of a natural language inference task. The data for this part is the [SNLI corpus](https://nlp.stanford.edu/projects/snli/), a collection of 570k human-written English image caption pairs manually labeled with the labels *Entailment*, *Contradiction*, and *Neutral*. Consider the following sentence pair as an example:\n",
    "\n",
    "* Sentence 1: A soccer game with multiple males playing.\n",
    "* Sentence 2: Some men are playing a sport.\n",
    "\n",
    "This pair is labeled with *Entailment*, because sentence&nbsp;2 is logically entailed (implied) by sentence&nbsp;1 – if sentence&nbsp;1 is true, then sentence&nbsp;2 is true, too. The following sentence pair, on the other hand, is labeled with *Contradiction*, because both sentences cannot be true at the same time.\n",
    "\n",
    "* Sentence 1: A black race car starts up in front of a crowd of people.\n",
    "* Sentence 2: A man is driving down a lonely road.\n",
    "\n",
    "For detailed information about the corpus, refer to [Bowman et al. (2015)](https://www.aclweb.org/anthology/D15-1075/). For this lab, we load the training portion and the development portion of the dataset.\n",
    "\n",
    "**Note:** Because the SNLI corpus is rather big, we initially only load a small portion (25,000 samples) of the training data. Once you have working code for Problems&nbsp;4–6, you should set the flag `final` to `True` and re-run all cells with the full dataset."
   ]
  },
  {
   "cell_type": "code",
   "execution_count": 17,
   "metadata": {},
   "outputs": [
    {
     "name": "stdout",
     "output_type": "stream",
     "text": [
      "Number of sentence pairs in the training data: 25000\n",
      "Number of sentence pairs in the development data: 9842\n"
     ]
    }
   ],
   "source": [
    "import bz2\n",
    "import pandas as pd\n",
    "\n",
    "final_evaluation = False    # TODO: Set to True for the final evaluation!\n",
    "\n",
    "with bz2.open('train.jsonl.bz2', 'rt') as source:\n",
    "    if final_evaluation:\n",
    "        df_train = pd.read_json(source, lines=True)\n",
    "    else:\n",
    "        df_train = pd.read_json(source, lines=True, nrows=25000)\n",
    "    print('Number of sentence pairs in the training data:', len(df_train))\n",
    "\n",
    "with bz2.open('dev.jsonl.bz2', 'rt') as source:\n",
    "    df_dev = pd.read_json(source, lines=True)\n",
    "    print('Number of sentence pairs in the development data:', len(df_dev))"
   ]
  },
  {
   "cell_type": "markdown",
   "metadata": {},
   "source": [
    "When you inspect the data frames, you will see that we have preprocessed the sentences and separated tokens by spaces. In the columns `tagged1` and `tagged2`, we have added the part-of-speech tags for every token (as predicted by spaCy), also separated by spaces."
   ]
  },
  {
   "cell_type": "code",
   "execution_count": 18,
   "metadata": {},
   "outputs": [
    {
     "data": {
      "text/html": [
       "<div>\n",
       "<style scoped>\n",
       "    .dataframe tbody tr th:only-of-type {\n",
       "        vertical-align: middle;\n",
       "    }\n",
       "\n",
       "    .dataframe tbody tr th {\n",
       "        vertical-align: top;\n",
       "    }\n",
       "\n",
       "    .dataframe thead th {\n",
       "        text-align: right;\n",
       "    }\n",
       "</style>\n",
       "<table border=\"1\" class=\"dataframe\">\n",
       "  <thead>\n",
       "    <tr style=\"text-align: right;\">\n",
       "      <th></th>\n",
       "      <th>gold_label</th>\n",
       "      <th>sentence1</th>\n",
       "      <th>tags1</th>\n",
       "      <th>sentence2</th>\n",
       "      <th>tags2</th>\n",
       "    </tr>\n",
       "  </thead>\n",
       "  <tbody>\n",
       "    <tr>\n",
       "      <th>0</th>\n",
       "      <td>neutral</td>\n",
       "      <td>A person on a horse jumps over a broken down a...</td>\n",
       "      <td>DET NOUN ADP DET NOUN VERB ADP DET ADJ ADP NOU...</td>\n",
       "      <td>A person is training his horse for a competiti...</td>\n",
       "      <td>DET NOUN AUX VERB PRON NOUN ADP DET NOUN PUNCT</td>\n",
       "    </tr>\n",
       "    <tr>\n",
       "      <th>1</th>\n",
       "      <td>contradiction</td>\n",
       "      <td>A person on a horse jumps over a broken down a...</td>\n",
       "      <td>DET NOUN ADP DET NOUN VERB ADP DET ADJ ADP NOU...</td>\n",
       "      <td>A person is at a diner , ordering an omelette .</td>\n",
       "      <td>DET NOUN AUX ADP DET NOUN PUNCT VERB DET NOUN ...</td>\n",
       "    </tr>\n",
       "    <tr>\n",
       "      <th>2</th>\n",
       "      <td>entailment</td>\n",
       "      <td>A person on a horse jumps over a broken down a...</td>\n",
       "      <td>DET NOUN ADP DET NOUN VERB ADP DET ADJ ADP NOU...</td>\n",
       "      <td>A person is outdoors , on a horse .</td>\n",
       "      <td>DET NOUN AUX ADV PUNCT ADP DET NOUN PUNCT</td>\n",
       "    </tr>\n",
       "    <tr>\n",
       "      <th>3</th>\n",
       "      <td>neutral</td>\n",
       "      <td>Children smiling and waving at camera</td>\n",
       "      <td>NOUN VERB CCONJ VERB ADP NOUN</td>\n",
       "      <td>They are smiling at their parents</td>\n",
       "      <td>PRON AUX VERB ADP PRON NOUN</td>\n",
       "    </tr>\n",
       "    <tr>\n",
       "      <th>4</th>\n",
       "      <td>entailment</td>\n",
       "      <td>Children smiling and waving at camera</td>\n",
       "      <td>NOUN VERB CCONJ VERB ADP NOUN</td>\n",
       "      <td>There are children present</td>\n",
       "      <td>PRON AUX NOUN ADJ</td>\n",
       "    </tr>\n",
       "  </tbody>\n",
       "</table>\n",
       "</div>"
      ],
      "text/plain": [
       "      gold_label                                          sentence1  \\\n",
       "0        neutral  A person on a horse jumps over a broken down a...   \n",
       "1  contradiction  A person on a horse jumps over a broken down a...   \n",
       "2     entailment  A person on a horse jumps over a broken down a...   \n",
       "3        neutral              Children smiling and waving at camera   \n",
       "4     entailment              Children smiling and waving at camera   \n",
       "\n",
       "                                               tags1  \\\n",
       "0  DET NOUN ADP DET NOUN VERB ADP DET ADJ ADP NOU...   \n",
       "1  DET NOUN ADP DET NOUN VERB ADP DET ADJ ADP NOU...   \n",
       "2  DET NOUN ADP DET NOUN VERB ADP DET ADJ ADP NOU...   \n",
       "3                      NOUN VERB CCONJ VERB ADP NOUN   \n",
       "4                      NOUN VERB CCONJ VERB ADP NOUN   \n",
       "\n",
       "                                           sentence2  \\\n",
       "0  A person is training his horse for a competiti...   \n",
       "1    A person is at a diner , ordering an omelette .   \n",
       "2                A person is outdoors , on a horse .   \n",
       "3                  They are smiling at their parents   \n",
       "4                         There are children present   \n",
       "\n",
       "                                               tags2  \n",
       "0     DET NOUN AUX VERB PRON NOUN ADP DET NOUN PUNCT  \n",
       "1  DET NOUN AUX ADP DET NOUN PUNCT VERB DET NOUN ...  \n",
       "2          DET NOUN AUX ADV PUNCT ADP DET NOUN PUNCT  \n",
       "3                        PRON AUX VERB ADP PRON NOUN  \n",
       "4                                  PRON AUX NOUN ADJ  "
      ]
     },
     "execution_count": 18,
     "metadata": {},
     "output_type": "execute_result"
    }
   ],
   "source": [
    "df_train.head()"
   ]
  },
  {
   "cell_type": "markdown",
   "metadata": {},
   "source": [
    "## Problem 4: Two simple baselines"
   ]
  },
  {
   "cell_type": "markdown",
   "metadata": {},
   "source": [
    "Your first task is to establish two simple baselines for the natural language inference task."
   ]
  },
  {
   "cell_type": "markdown",
   "metadata": {},
   "source": [
    "### Random baseline\n",
    "\n",
    "Implement the standard random baseline that generates prediction by sampling from the empirical distribution of the classes in the training data. Write code to evaluate the performance of this classifier on the development data."
   ]
  },
  {
   "cell_type": "code",
   "execution_count": 19,
   "metadata": {},
   "outputs": [
    {
     "name": "stdout",
     "output_type": "stream",
     "text": [
      "               precision    recall  f1-score   support\n",
      "\n",
      "contradiction       0.34      0.34      0.34      3278\n",
      "   entailment       0.34      0.34      0.34      3329\n",
      "      neutral       0.33      0.34      0.34      3235\n",
      "\n",
      "     accuracy                           0.34      9842\n",
      "    macro avg       0.34      0.34      0.34      9842\n",
      " weighted avg       0.34      0.34      0.34      9842\n",
      "\n"
     ]
    }
   ],
   "source": [
    "# TODO: Enter code here to implement the random baseline. Print the classification report.\n",
    "from sklearn.dummy import DummyClassifier\n",
    "from sklearn.metrics import classification_report\n",
    "\n",
    "Xtrain = df_train[['sentence1','sentence2','tags1','tags2']]\n",
    "Ytrain = df_train['gold_label']\n",
    "\n",
    "Xtest = df_dev[['sentence1','sentence2','tags1','tags2']]\n",
    "Ytest = df_dev['gold_label']\n",
    "\n",
    "DC = DummyClassifier(strategy = 'stratified') \n",
    "DC.fit(Xtrain, Ytrain)\n",
    "\n",
    "predictions = DC.predict(Xtest)\n",
    "\n",
    "print(classification_report(Ytest, predictions))\n"
   ]
  },
  {
   "cell_type": "markdown",
   "metadata": {},
   "source": [
    "### One-sided baseline\n",
    "\n",
    "A second obvious baseline for the inference task is to predict the class label of a sentence pair based on the text of only one of the two sentences, just as in a standard document classification task. Put together a simple [CountVectorizer](https://scikit-learn.org/stable/modules/generated/sklearn.feature_extraction.text.CountVectorizer.html) + [LogisticRegression](https://scikit-learn.org/stable/modules/generated/sklearn.linear_model.LogisticRegression.html) pipeline that implements this idea, train it, and evaluate it on the development data. Is it better to base predictions on sentence&nbsp;1 or sentence&nbsp;2? Why should one sentence be more useful than the other?"
   ]
  },
  {
   "cell_type": "code",
   "execution_count": 20,
   "metadata": {},
   "outputs": [
    {
     "name": "stdout",
     "output_type": "stream",
     "text": [
      "               precision    recall  f1-score   support\n",
      "\n",
      "contradiction       0.33      0.25      0.28      3278\n",
      "   entailment       0.33      0.34      0.34      3329\n",
      "      neutral       0.33      0.40      0.36      3235\n",
      "\n",
      "     accuracy                           0.33      9842\n",
      "    macro avg       0.33      0.33      0.33      9842\n",
      " weighted avg       0.33      0.33      0.33      9842\n",
      "\n",
      "               precision    recall  f1-score   support\n",
      "\n",
      "contradiction       0.60      0.60      0.60      3278\n",
      "   entailment       0.59      0.65      0.62      3329\n",
      "      neutral       0.62      0.56      0.59      3235\n",
      "\n",
      "     accuracy                           0.60      9842\n",
      "    macro avg       0.60      0.60      0.60      9842\n",
      " weighted avg       0.60      0.60      0.60      9842\n",
      "\n"
     ]
    }
   ],
   "source": [
    "# TODO: Enter code here to implement the one-sentence baselines. Print the classification reports.\n",
    "from sklearn.feature_extraction.text import CountVectorizer\n",
    "from sklearn.linear_model import LogisticRegression\n",
    "from sklearn.pipeline import Pipeline\n",
    "\n",
    "pipe_OSB = Pipeline([\n",
    "    ('vector', CountVectorizer()),\n",
    "    ('classifier', LogisticRegression(max_iter = 1000)),])\n",
    "\n",
    "pipe_OSB.fit(Xtrain.sentence1, Ytrain)\n",
    "pred_OSB_s1 = pipe_OSB.predict(Xtest.sentence1)\n",
    "print(classification_report(Ytest, pred_OSB_s1))\n",
    "\n",
    "pipe_OSB.fit(Xtrain.sentence2, Ytrain)\n",
    "pred_OSB_s2 = pipe_OSB.predict(Xtest.sentence2)\n",
    "print(classification_report(Ytest, pred_OSB_s2))"
   ]
  },
  {
   "cell_type": "markdown",
   "metadata": {},
   "source": [
    "*Sentence2 is the better predictor as compared to sentence1. Its hard to say why this would be the case because we are comparing the results of 2 different training models. Essentially in this comparison sentence 1 & sentence 2 are independent of each other with respect to the gold standard labels. Upon manual inspection of the data set we can hypothesize that sentence2 may contain shorter and brief sentences which may have some impact on how the classifier performs.*"
   ]
  },
  {
   "cell_type": "markdown",
   "metadata": {},
   "source": [
    "## Problem 5: A classifier based on manually engineered features"
   ]
  },
  {
   "cell_type": "markdown",
   "metadata": {},
   "source": [
    "[Bowman et al. (2015)](https://www.aclweb.org/anthology/D15-1075/) evaluate a classifier that uses (among others) **cross-unigram features**. This term is used to refer to pairs of unigrams $(w_1, w_2)$ such that $w_1$ occurs in sentence&nbsp;1, $w_2$ occurs in sentence&nbsp;2, and both have been assigned the same part-of-speech tag.\n",
    "\n",
    "Your next task is to implement the cross-unigram classifier. To this end, the next cell contains skeleton code for a transformer that you can use as the first component in a classification pipeline. This transformer converts each row of the SNLI data frame into a space-separated string consisting of\n",
    "\n",
    "* the standard unigrams (of sentence&nbsp;1 or sentence&nbsp;2 – choose whichever performed better in Problem&nbsp;4)\n",
    "* the cross-unigrams, as described above.\n",
    "\n",
    "The space-separated string forms a new &lsquo;document&rsquo; that can be passed to a vectorizer in exactly the same way as a standard sentence in Problem&nbsp;4."
   ]
  },
  {
   "cell_type": "code",
   "execution_count": 21,
   "metadata": {},
   "outputs": [],
   "source": [
    "from sklearn.base import BaseEstimator, TransformerMixin\n",
    "\n",
    "class CrossUnigramsTransformer(BaseEstimator, TransformerMixin):\n",
    "    def __init__(self):\n",
    "        pass\n",
    "\n",
    "    def fit(self, X, y=None):\n",
    "        return self\n",
    "\n",
    "    # Transform a single row of the dataframe.\n",
    "    def _transform(self, row):\n",
    "        sen1 = row.sentence1.split()\n",
    "        sen2 = row.sentence2.split()\n",
    "        tags1 = row.tags1.split()\n",
    "        tags2 = row.tags2.split()\n",
    "        \n",
    "        cross_unigrams = []\n",
    "        \n",
    "        for i in range(len(sen1)):\n",
    "            for j in range(len(sen2)):\n",
    "                if tags1[i] == tags2[j]: \n",
    "                    cross_unigrams.append(sen1[i]+ \"_\" + sen2[j])\n",
    "        result = ' '.join(cross_unigrams)\n",
    "        result += ' '.join(sen2) #FIXED!!\n",
    "        return result\n",
    "\n",
    "    def transform(self, X):\n",
    "        return [self._transform(row) for row in X.itertuples()]"
   ]
  },
  {
   "cell_type": "markdown",
   "metadata": {},
   "source": [
    "Once you have an implementation of the transformer, extend the pipeline that you built for Problem&nbsp;4, train it, and evaluate it on the development data."
   ]
  },
  {
   "cell_type": "code",
   "execution_count": 22,
   "metadata": {},
   "outputs": [
    {
     "name": "stdout",
     "output_type": "stream",
     "text": [
      "               precision    recall  f1-score   support\n",
      "\n",
      "contradiction       0.68      0.65      0.67      3278\n",
      "   entailment       0.64      0.71      0.67      3329\n",
      "      neutral       0.63      0.58      0.60      3235\n",
      "\n",
      "     accuracy                           0.65      9842\n",
      "    macro avg       0.65      0.65      0.65      9842\n",
      " weighted avg       0.65      0.65      0.65      9842\n",
      "\n"
     ]
    }
   ],
   "source": [
    "# TODO: Enter code here to implement the cross-unigrams classifier. Print the classification report.\n",
    "\n",
    "pipe_CU = Pipeline([\n",
    "    ('cross-uni', CrossUnigramsTransformer()),\n",
    "    ('vector', CountVectorizer()),\n",
    "    ('classifier', LogisticRegression(max_iter = 1000)),\n",
    "    ])\n",
    "\n",
    "pipe_CU.fit(df_train, df_train.gold_label)\n",
    "predictions_CU = pipe_CU.predict(df_dev)\n",
    "\n",
    "print(classification_report(df_dev.gold_label, predictions_CU))"
   ]
  },
  {
   "cell_type": "markdown",
   "metadata": {},
   "source": [
    "## Problem 6: A classifier based on word embeddings"
   ]
  },
  {
   "cell_type": "markdown",
   "metadata": {},
   "source": [
    "Your last task in this lab is to build a classifier for the natural language inference task that uses word embeddings. More specifically, we ask you to implement a vectorizer that represents each sentence as the sum of its word vectors – a representation known as the **continuous bag-of-words**. Thus, given that spaCy&rsquo;s word vectors have 300 dimensions, each sentence will be transformed into a 300-dimensional vector. To represent a sentence pair, the vectorizer should concatenate the vectors for the individual sentences; this yields a 600-dimensional vector. This vector can then be passed to a classifier.\n",
    "\n",
    "The next code cell contains skeleton code for the vectorizer. You will have to implement two methods: one that maps a single sentence to a vector (of length 300), and one that maps a sentence pair to a vector (of length 600)."
   ]
  },
  {
   "cell_type": "code",
   "execution_count": 23,
   "metadata": {},
   "outputs": [],
   "source": [
    "import numpy as np\n",
    "\n",
    "from sklearn.base import BaseEstimator, TransformerMixin\n",
    "\n",
    "class PairedSentenceVectorizer(BaseEstimator, TransformerMixin):\n",
    "    def __init__(self):\n",
    "        pass\n",
    "\n",
    "    def fit(self, X, y=None):\n",
    "        return self\n",
    "\n",
    "    # Vectorize a single sentence.\n",
    "    def _transform1(self, sentence):\n",
    "        # TODO: Replace the following line with your own code\n",
    "        CBOW = 0\n",
    "        for word in sentence.split():\n",
    "            CBOW += nlp.vocab[word].vector           \n",
    "        return CBOW\n",
    "\n",
    "    # Vectorize a single row of the dataframe.\n",
    "    def _transform2(self, row):\n",
    "        # TODO: Replace the following line with your own code\n",
    "        return np.concatenate((self._transform1(row.sentence1), self._transform1(row.sentence2)))\n",
    "\n",
    "    def transform(self, X):\n",
    "        return np.concatenate(\n",
    "            [self._transform2(row).reshape(1, -1) for row in X.itertuples()]\n",
    "        )"
   ]
  },
  {
   "cell_type": "markdown",
   "metadata": {},
   "source": [
    "Once you have a working implementation, build a pipeline consisting of the new vectorizer and a [multi-layer perceptron classifier](https://scikit-learn.org/stable/modules/generated/sklearn.neural_network.MLPClassifier.html). This more powerful (compared to logistic regression) classifier is called for here because we do not specify features by hand (as we did in Problem&nbsp;5), but want to let the model learn a good representation of the data by itself. Use 3&nbsp;hidden layers, each with size 300. It suffices to train the classifier for 8&nbsp;iterations (epochs)."
   ]
  },
  {
   "cell_type": "code",
   "execution_count": 24,
   "metadata": {},
   "outputs": [
    {
     "name": "stderr",
     "output_type": "stream",
     "text": [
      "D:\\Anaconda\\lib\\site-packages\\sklearn\\neural_network\\_multilayer_perceptron.py:614: ConvergenceWarning: Stochastic Optimizer: Maximum iterations (8) reached and the optimization hasn't converged yet.\n",
      "  warnings.warn(\n"
     ]
    },
    {
     "name": "stdout",
     "output_type": "stream",
     "text": [
      "               precision    recall  f1-score   support\n",
      "\n",
      "contradiction       0.56      0.47      0.51      3278\n",
      "   entailment       0.55      0.66      0.60      3329\n",
      "      neutral       0.56      0.54      0.55      3235\n",
      "\n",
      "     accuracy                           0.56      9842\n",
      "    macro avg       0.56      0.55      0.55      9842\n",
      " weighted avg       0.56      0.56      0.55      9842\n",
      "\n"
     ]
    }
   ],
   "source": [
    "# TODO: Enter code here to implement the word embeddings classifier. Print the classification report.\n",
    "from sklearn.neural_network import MLPClassifier\n",
    "\n",
    "pipe_MLP = Pipeline([\n",
    "    ('vector', PairedSentenceVectorizer()),\n",
    "    ('classifier', MLPClassifier(hidden_layer_sizes = (300, 300, 300), \n",
    "                                 max_iter = 8)),])\n",
    "\n",
    "pipe_MLP.fit(df_train, df_train.gold_label)\n",
    "predictions_MLP = pipe_MLP.predict(df_dev)\n",
    "\n",
    "print(classification_report(df_dev.gold_label, predictions_MLP))"
   ]
  },
  {
   "cell_type": "markdown",
   "metadata": {},
   "source": [
    "## Problem 7: Final evaluation"
   ]
  },
  {
   "cell_type": "markdown",
   "metadata": {},
   "source": [
    "Once you have working code for all problems, re-run Problems&nbsp;4–6 with the full training data. This will take quite a while (expect approximately 1&nbsp;hour on Colab). **Make sure to not overwrite your previous results.** What are your results on the full data? How do they differ from the results that you obtained for the smaller training data? How do you interpret this? Summarize your findings in a short text."
   ]
  },
  {
   "cell_type": "code",
   "execution_count": 25,
   "metadata": {},
   "outputs": [
    {
     "name": "stdout",
     "output_type": "stream",
     "text": [
      "Number of sentence pairs in the training data: 549367\n",
      "Number of sentence pairs in the development data: 9842\n"
     ]
    }
   ],
   "source": [
    "# TODO: Enter your code for the full experiments here\n",
    "import bz2\n",
    "import pandas as pd\n",
    "\n",
    "final_evaluation = True    # TODO: Set to True for the final evaluation!\n",
    "\n",
    "with bz2.open('train.jsonl.bz2', 'rt') as source:\n",
    "    if final_evaluation:\n",
    "        df_train = pd.read_json(source, lines=True)\n",
    "    else:\n",
    "        df_train = pd.read_json(source, lines=True, nrows=25000)\n",
    "    print('Number of sentence pairs in the training data:', len(df_train))\n",
    "\n",
    "with bz2.open('dev.jsonl.bz2', 'rt') as source:\n",
    "    df_dev = pd.read_json(source, lines=True)\n",
    "    print('Number of sentence pairs in the development data:', len(df_dev))\n",
    "    \n",
    "   "
   ]
  },
  {
   "cell_type": "code",
   "execution_count": 26,
   "metadata": {},
   "outputs": [
    {
     "name": "stdout",
     "output_type": "stream",
     "text": [
      "               precision    recall  f1-score   support\n",
      "\n",
      "contradiction       0.33      0.34      0.34      3278\n",
      "   entailment       0.35      0.34      0.34      3329\n",
      "      neutral       0.34      0.34      0.34      3235\n",
      "\n",
      "     accuracy                           0.34      9842\n",
      "    macro avg       0.34      0.34      0.34      9842\n",
      " weighted avg       0.34      0.34      0.34      9842\n",
      "\n"
     ]
    }
   ],
   "source": [
    "DC = DummyClassifier(strategy = 'stratified') \n",
    "DC.fit(df_train[['sentence1','sentence2','tags1','tags2']], df_train['gold_label'])\n",
    "\n",
    "predictions = DC.predict(df_dev[['sentence1','sentence2','tags1','tags2']])\n",
    "\n",
    "print(classification_report(df_dev['gold_label'], predictions))"
   ]
  },
  {
   "cell_type": "code",
   "execution_count": 27,
   "metadata": {},
   "outputs": [
    {
     "name": "stdout",
     "output_type": "stream",
     "text": [
      "               precision    recall  f1-score   support\n",
      "\n",
      "contradiction       0.34      0.25      0.29      3278\n",
      "   entailment       0.34      0.39      0.36      3329\n",
      "      neutral       0.33      0.36      0.35      3235\n",
      "\n",
      "     accuracy                           0.34      9842\n",
      "    macro avg       0.34      0.34      0.33      9842\n",
      " weighted avg       0.34      0.34      0.33      9842\n",
      "\n"
     ]
    },
    {
     "name": "stderr",
     "output_type": "stream",
     "text": [
      "D:\\Anaconda\\lib\\site-packages\\sklearn\\linear_model\\_logistic.py:763: ConvergenceWarning: lbfgs failed to converge (status=1):\n",
      "STOP: TOTAL NO. of ITERATIONS REACHED LIMIT.\n",
      "\n",
      "Increase the number of iterations (max_iter) or scale the data as shown in:\n",
      "    https://scikit-learn.org/stable/modules/preprocessing.html\n",
      "Please also refer to the documentation for alternative solver options:\n",
      "    https://scikit-learn.org/stable/modules/linear_model.html#logistic-regression\n",
      "  n_iter_i = _check_optimize_result(\n"
     ]
    },
    {
     "name": "stdout",
     "output_type": "stream",
     "text": [
      "               precision    recall  f1-score   support\n",
      "\n",
      "contradiction       0.65      0.63      0.64      3278\n",
      "   entailment       0.64      0.72      0.68      3329\n",
      "      neutral       0.67      0.60      0.63      3235\n",
      "\n",
      "     accuracy                           0.65      9842\n",
      "    macro avg       0.65      0.65      0.65      9842\n",
      " weighted avg       0.65      0.65      0.65      9842\n",
      "\n"
     ]
    }
   ],
   "source": [
    "pipe_OSB = Pipeline([\n",
    "    ('vector', CountVectorizer()),\n",
    "    ('classifier', LogisticRegression(max_iter = 1000)),])\n",
    "\n",
    "pipe_OSB.fit(df_train.sentence1, df_train.gold_label)\n",
    "pred_OSB_s1 = pipe_OSB.predict(df_dev.sentence1)\n",
    "print(classification_report(df_dev.gold_label, pred_OSB_s1))\n",
    "\n",
    "pipe_OSB.fit(df_train.sentence2, df_train.gold_label)\n",
    "pred_OSB_s2 = pipe_OSB.predict(df_dev.sentence2)\n",
    "print(classification_report(df_dev.gold_label, pred_OSB_s2))"
   ]
  },
  {
   "cell_type": "code",
   "execution_count": 28,
   "metadata": {},
   "outputs": [
    {
     "name": "stderr",
     "output_type": "stream",
     "text": [
      "D:\\Anaconda\\lib\\site-packages\\sklearn\\linear_model\\_logistic.py:763: ConvergenceWarning: lbfgs failed to converge (status=1):\n",
      "STOP: TOTAL NO. of ITERATIONS REACHED LIMIT.\n",
      "\n",
      "Increase the number of iterations (max_iter) or scale the data as shown in:\n",
      "    https://scikit-learn.org/stable/modules/preprocessing.html\n",
      "Please also refer to the documentation for alternative solver options:\n",
      "    https://scikit-learn.org/stable/modules/linear_model.html#logistic-regression\n",
      "  n_iter_i = _check_optimize_result(\n"
     ]
    },
    {
     "name": "stdout",
     "output_type": "stream",
     "text": [
      "               precision    recall  f1-score   support\n",
      "\n",
      "contradiction       0.78      0.76      0.77      3278\n",
      "   entailment       0.75      0.80      0.77      3329\n",
      "      neutral       0.71      0.69      0.70      3235\n",
      "\n",
      "     accuracy                           0.75      9842\n",
      "    macro avg       0.75      0.75      0.75      9842\n",
      " weighted avg       0.75      0.75      0.75      9842\n",
      "\n"
     ]
    }
   ],
   "source": [
    "pipe_CU = Pipeline([\n",
    "    ('cross-uni', CrossUnigramsTransformer()),\n",
    "    ('vector', CountVectorizer()),\n",
    "    ('classifier', LogisticRegression(max_iter = 1000)),\n",
    "    ])\n",
    "\n",
    "pipe_CU.fit(df_train, df_train.gold_label)\n",
    "predictions_CU = pipe_CU.predict(df_dev)\n",
    "\n",
    "print(classification_report(df_dev.gold_label, predictions_CU))"
   ]
  },
  {
   "cell_type": "code",
   "execution_count": 29,
   "metadata": {},
   "outputs": [
    {
     "name": "stderr",
     "output_type": "stream",
     "text": [
      "D:\\Anaconda\\lib\\site-packages\\sklearn\\neural_network\\_multilayer_perceptron.py:614: ConvergenceWarning: Stochastic Optimizer: Maximum iterations (8) reached and the optimization hasn't converged yet.\n",
      "  warnings.warn(\n"
     ]
    },
    {
     "name": "stdout",
     "output_type": "stream",
     "text": [
      "               precision    recall  f1-score   support\n",
      "\n",
      "contradiction       0.75      0.64      0.69      3278\n",
      "   entailment       0.67      0.80      0.73      3329\n",
      "      neutral       0.68      0.65      0.66      3235\n",
      "\n",
      "     accuracy                           0.70      9842\n",
      "    macro avg       0.70      0.70      0.70      9842\n",
      " weighted avg       0.70      0.70      0.70      9842\n",
      "\n"
     ]
    }
   ],
   "source": [
    "pipe_MLP = Pipeline([\n",
    "    ('vector', PairedSentenceVectorizer()),\n",
    "    ('classifier', MLPClassifier(hidden_layer_sizes = (300, 300, 300), \n",
    "                                 max_iter = 8)),])\n",
    "\n",
    "pipe_MLP.fit(df_train, df_train.gold_label)\n",
    "predictions_MLP = pipe_MLP.predict(df_dev)\n",
    "\n",
    "print(classification_report(df_dev.gold_label, predictions_MLP))"
   ]
  },
  {
   "cell_type": "code",
   "execution_count": 30,
   "metadata": {},
   "outputs": [
    {
     "name": "stderr",
     "output_type": "stream",
     "text": [
      "D:\\Anaconda\\lib\\site-packages\\sklearn\\neural_network\\_multilayer_perceptron.py:614: ConvergenceWarning: Stochastic Optimizer: Maximum iterations (20) reached and the optimization hasn't converged yet.\n",
      "  warnings.warn(\n"
     ]
    },
    {
     "name": "stdout",
     "output_type": "stream",
     "text": [
      "               precision    recall  f1-score   support\n",
      "\n",
      "contradiction       0.75      0.68      0.71      3278\n",
      "   entailment       0.72      0.76      0.74      3329\n",
      "      neutral       0.67      0.70      0.69      3235\n",
      "\n",
      "     accuracy                           0.71      9842\n",
      "    macro avg       0.72      0.71      0.71      9842\n",
      " weighted avg       0.72      0.71      0.71      9842\n",
      "\n"
     ]
    }
   ],
   "source": [
    "pipe_MLP = Pipeline([\n",
    "    ('vector', PairedSentenceVectorizer()),\n",
    "    ('classifier', MLPClassifier(hidden_layer_sizes = (300, 300, 300), \n",
    "                                 max_iter = 20)),])\n",
    "\n",
    "pipe_MLP.fit(df_train, df_train.gold_label)\n",
    "predictions_MLP = pipe_MLP.predict(df_dev)\n",
    "\n",
    "print(classification_report(df_dev.gold_label, predictions_MLP))"
   ]
  },
  {
   "cell_type": "markdown",
   "metadata": {},
   "source": [
    "**Experiment results: [UPDATED]**\n",
    "\n",
    "|Classifier/Baseline|Partial dataset acc%|Complete dataset acc%|Comments|\n",
    "|---|---|---|---|\n",
    "|Random Baseline|34%|34%|No change in the accuracy (expected as it is inherently random choice between 3 classes)|\n",
    "|One sided baseline with sentence1|33%|34%|We saw no improvement in the accuracy here because sentence1 is not a significant contributor to the inferential classification|\n",
    "|One sided baseline with sentence2|60%|65%|A significant improvement here which we expected because of the availability of a larger dataset for training|\n",
    "|Manually Engineered Features classifier|65%|75%|After making the corerction to the code for the Cross Unigrams, we see a much better result here with significant improvements in both training and test|\n",
    "|MLP classifier with CBOW|56%|70%|We observe a significant improvement vs the baseline but a drop in f1 score vs the manually engineered features classifier. The NN classifier performs much better with more data to train on as the f1 score vs the OSB was actually lower for smaller training data.|\n",
    "\n"
   ]
  },
  {
   "cell_type": "markdown",
   "metadata": {},
   "source": [
    "## Reflection questions"
   ]
  },
  {
   "cell_type": "markdown",
   "metadata": {},
   "source": [
    "The following reflection questions will help you prepare for the diagnostic test. Answer each of them in the form of a short text and put your answers in the cell below. You will get feedback on your answers from your lab assistant."
   ]
  },
  {
   "cell_type": "markdown",
   "metadata": {},
   "source": [
    "**RQ 4.1:** In Problem&nbsp;3, you manipulated word vectors using addition and subtraction, getting intermediate vectors which are still valid embeddings. Consider the difference vector *Stockholm* $-$ *Sweden*. What does that vector intuitively represent? What words do you think it should be most similar to?\n",
    "\n",
    "*Intuitively, the subtraction represents an association rule of sorts, where we fix the capital and take away the country and then apply this association rule to another country to get its capital.*\n",
    "\n",
    "**RQ 4.2:** Manually engineering features is a fairly time-consuming task, but as shown in Problem&nbsp;5, can result in systems which are on par with embedding-based systems. Conversely, embedding-based systems avoid manual feature engineering, but often require significantly more computational resources. Looking at your results from Problem&nbsp;7, are embedding-based systems worth the extra resources in the context of this task?\n",
    "\n",
    "**UPDATED: After correcting the code, we see that manually engineered features actually give us a much better result. Another thing we noted that MLP classifier takes a lot of time to train which is problematic also because the NN performs satisfactorily if it is fed enough training data. So there is the benefit of both training time as well as accuracy of classification results.**\n",
    "\n",
    "**RQ 4.3:** Throughout the lab, you have been using pre-trained word vectors from spaCy. In Problem&nbsp;7, you used them to compute the *input* to a neural network. Another common pattern is to use them to initialize an *embedding layer* in a neural network. (Have a look at [this article](https://machinelearningmastery.com/use-word-embedding-layers-deep-learning-keras/) if you are unfamiliar with that pattern.) Explain the difference between the two usage patterns. What advantages/disadvantages do they have?\n",
    "\n",
    "*The difference between the 2 methods primarily is how the transformed inputs are subject to updation through backpropogation when using embedding layers. When training a CBOW classifier word embeddings are learned automatically whereby, the significance of the words in the document is optimized to the task at hand. In the case we've handled in this lab, the word embeddings are fixed and we are dependent on the embeddings in the large English language model in spaCy. Whereas, with embedding layers we can have more optimized embeddings with word associations being dealt with in the context of the SNLI corpus. So, the advantage of using embedding layers is flexibility of optimizing to the task at hand. While this makes embedding sound like the better option, the caveat lies in the case where we don't have enough training data. In such a case, the word embeddings maybe tuned very well to small training data, but when subject to test conditions, it may not fare so well. In such cases, having a 'general' set like that which spaCy provides can help us avoid generalization error. To conclude, we would say that embedding layers can be a good option even with limited data, if we mean to expose the classifier to a very specific or familiar test/validation data.*"
   ]
  },
  {
   "cell_type": "markdown",
   "metadata": {},
   "source": [
    "*TODO: Enter your answers here*"
   ]
  },
  {
   "cell_type": "markdown",
   "metadata": {},
   "source": [
    "**Congratulations on finishing L4! 👍**"
   ]
  }
 ],
 "metadata": {
  "kernelspec": {
   "display_name": "Python 3 (ipykernel)",
   "language": "python",
   "name": "python3"
  },
  "language_info": {
   "codemirror_mode": {
    "name": "ipython",
    "version": 3
   },
   "file_extension": ".py",
   "mimetype": "text/x-python",
   "name": "python",
   "nbconvert_exporter": "python",
   "pygments_lexer": "ipython3",
   "version": "3.9.7"
  }
 },
 "nbformat": 4,
 "nbformat_minor": 2
}
