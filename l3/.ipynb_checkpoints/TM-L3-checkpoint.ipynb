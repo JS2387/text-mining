{
 "cells": [
  {
   "cell_type": "markdown",
   "metadata": {},
   "source": [
    "# L3: Text clustering and topic modelling"
   ]
  },
  {
   "cell_type": "markdown",
   "metadata": {},
   "source": [
    "Text clustering groups documents in such a way that documents within a group are more &lsquo;similar&rsquo; to other documents in the cluster than to documents not in the cluster. The exact definition of what &lsquo;similar&rsquo; means in this context varies across applications and clustering algorithms.\n",
    "\n",
    "In this lab you will experiment with both hard and soft clustering techniques. More specifically, in the first part you will be using the $k$-means algorithm, and in the second part you will be using a topic model based on the Latent Dirichlet Allocation (LDA)."
   ]
  },
  {
   "cell_type": "markdown",
   "metadata": {},
   "source": [
    "**A quick reminder about our [Rules for hand-in assignments](https://www.ida.liu.se/~TDDE16/exam.en.shtml#handins) and the [Policy on cheating and plagiarism](https://www.ida.liu.se/~TDDE16/exam.en.shtml#cheating)**"
   ]
  },
  {
   "cell_type": "markdown",
   "metadata": {},
   "source": [
    "## Hard clustering data set"
   ]
  },
  {
   "cell_type": "markdown",
   "metadata": {},
   "source": [
    "The raw data for the hard clustering part of this lab is a collection of product reviews. We have preprocessed the data by tokenization and lowercasing."
   ]
  },
  {
   "cell_type": "code",
   "execution_count": 1,
   "metadata": {},
   "outputs": [],
   "source": [
    "import pandas as pd\n",
    "import bz2\n",
    "\n",
    "with bz2.open('reviews.json.bz2') as source:\n",
    "    df = pd.read_json(source)"
   ]
  },
  {
   "cell_type": "markdown",
   "metadata": {},
   "source": [
    "When you inspect the data frame, you can see that there are three labelled columns: `category` (the product category), `sentiment` (whether the product review was classified as &lsquo;positive&rsquo; or &lsquo;negative&rsquo; towards the product), and `text` (the space-separated text of the review)."
   ]
  },
  {
   "cell_type": "code",
   "execution_count": 2,
   "metadata": {},
   "outputs": [
    {
     "data": {
      "text/html": [
       "<div>\n",
       "<style scoped>\n",
       "    .dataframe tbody tr th:only-of-type {\n",
       "        vertical-align: middle;\n",
       "    }\n",
       "\n",
       "    .dataframe tbody tr th {\n",
       "        vertical-align: top;\n",
       "    }\n",
       "\n",
       "    .dataframe thead th {\n",
       "        text-align: right;\n",
       "    }\n",
       "</style>\n",
       "<table border=\"1\" class=\"dataframe\">\n",
       "  <thead>\n",
       "    <tr style=\"text-align: right;\">\n",
       "      <th></th>\n",
       "      <th>category</th>\n",
       "      <th>sentiment</th>\n",
       "      <th>text</th>\n",
       "    </tr>\n",
       "  </thead>\n",
       "  <tbody>\n",
       "    <tr>\n",
       "      <th>0</th>\n",
       "      <td>music</td>\n",
       "      <td>neg</td>\n",
       "      <td>i bought this album because i loved the title ...</td>\n",
       "    </tr>\n",
       "    <tr>\n",
       "      <th>1</th>\n",
       "      <td>music</td>\n",
       "      <td>neg</td>\n",
       "      <td>i was misled and thought i was buying the enti...</td>\n",
       "    </tr>\n",
       "    <tr>\n",
       "      <th>2</th>\n",
       "      <td>books</td>\n",
       "      <td>neg</td>\n",
       "      <td>i have introduced many of my ell , high school...</td>\n",
       "    </tr>\n",
       "    <tr>\n",
       "      <th>3</th>\n",
       "      <td>books</td>\n",
       "      <td>pos</td>\n",
       "      <td>anything you purchase in the left behind serie...</td>\n",
       "    </tr>\n",
       "    <tr>\n",
       "      <th>4</th>\n",
       "      <td>dvd</td>\n",
       "      <td>pos</td>\n",
       "      <td>i loved these movies , and i cant wiat for the...</td>\n",
       "    </tr>\n",
       "  </tbody>\n",
       "</table>\n",
       "</div>"
      ],
      "text/plain": [
       "  category sentiment                                               text\n",
       "0    music       neg  i bought this album because i loved the title ...\n",
       "1    music       neg  i was misled and thought i was buying the enti...\n",
       "2    books       neg  i have introduced many of my ell , high school...\n",
       "3    books       pos  anything you purchase in the left behind serie...\n",
       "4      dvd       pos  i loved these movies , and i cant wiat for the..."
      ]
     },
     "execution_count": 2,
     "metadata": {},
     "output_type": "execute_result"
    }
   ],
   "source": [
    "df.head()"
   ]
  },
  {
   "cell_type": "markdown",
   "metadata": {},
   "source": [
    "## Problem 1: K-means clustering"
   ]
  },
  {
   "cell_type": "markdown",
   "metadata": {},
   "source": [
    "Your first task is to cluster the product review data using a tf–idf vectorizer and a $k$-means clusterer."
   ]
  },
  {
   "cell_type": "markdown",
   "metadata": {},
   "source": [
    "Start by doing the vectorization. In connection with vectorization, you should also filter out standard English stop words. While you could use [spaCy](https://spacy.io/) for this task, here it suffices to use the word list implemented in [TfidfVectorizer](https://scikit-learn.org/stable/modules/generated/sklearn.feature_extraction.text.TfidfVectorizer.html)."
   ]
  },
  {
   "cell_type": "code",
   "execution_count": 3,
   "metadata": {},
   "outputs": [],
   "source": [
    "# TODO: Enter code here to vectorize the data and store it in a variable `reviews`\n",
    "\n",
    "from sklearn.feature_extraction.text import TfidfVectorizer\n",
    "vectorizer = TfidfVectorizer(stop_words = 'english')\n",
    "reviews = vectorizer.fit_transform(df.text)"
   ]
  },
  {
   "cell_type": "markdown",
   "metadata": {},
   "source": [
    "Test your vectorization by running the following code cell:"
   ]
  },
  {
   "cell_type": "code",
   "execution_count": 4,
   "metadata": {},
   "outputs": [
    {
     "data": {
      "text/plain": [
       "(11914, 46619)"
      ]
     },
     "execution_count": 4,
     "metadata": {},
     "output_type": "execute_result"
    }
   ],
   "source": [
    "reviews.shape"
   ]
  },
  {
   "cell_type": "markdown",
   "metadata": {},
   "source": [
    "If you used the English stop word list from scikit-learn, then the resulting vocabulary should have 46,619 entries."
   ]
  },
  {
   "cell_type": "markdown",
   "metadata": {},
   "source": [
    "Next, cluster the vectorized data. Before doing so, you should read the documentation of the [KMeans](https://scikit-learn.org/stable/modules/generated/sklearn.cluster.KMeans.html) class, which is scikit-learn&rsquo;s implementation of the $k$-means algorithm. As you can see, this class has several parameters that you can tweak. For now, the only parameter that you will have to set is the number of clusters. Start with $k=3$.\n",
    "\n",
    "**Tip:** Training $k$-means models will take some time. To speed things up, you can use the `n_init` parameter to control the number of times that the clustering is re-computed with different initial values. The default value for this parameter is 10; here and in the rest of this lab, you may want to set this to a lower value."
   ]
  },
  {
   "cell_type": "code",
   "execution_count": 5,
   "metadata": {},
   "outputs": [],
   "source": [
    "# TODO: Enter code here to cluster the vectorized data\n",
    "from sklearn.cluster import KMeans\n",
    "KM_cluster = KMeans(n_clusters = 3, \n",
    "                    n_init = 5, \n",
    "                    random_state = 999,\n",
    "                    algorithm = 'elkan').fit(reviews)"
   ]
  },
  {
   "cell_type": "markdown",
   "metadata": {},
   "source": [
    "To sanity-check your clustering, create a bar plot with the number of documents per cluster."
   ]
  },
  {
   "cell_type": "code",
   "execution_count": 6,
   "metadata": {},
   "outputs": [
    {
     "data": {
      "text/plain": [
       "<AxesSubplot:>"
      ]
     },
     "execution_count": 6,
     "metadata": {},
     "output_type": "execute_result"
    },
    {
     "data": {
      "image/png": "[encoded data removed]",
      "text/plain": [
       "<Figure size 432x288 with 1 Axes>"
      ]
     },
     "metadata": {
      "needs_background": "light"
     },
     "output_type": "display_data"
    }
   ],
   "source": [
    "# TODO: Enter code here to produce a bar plot of the cluster size\n",
    "\n",
    "pd.value_counts(KM_cluster.labels_).plot(kind = 'bar')\n"
   ]
  },
  {
   "cell_type": "markdown",
   "metadata": {},
   "source": [
    "Note that sizes may vary considerable between clusters and among different random seeds."
   ]
  },
  {
   "cell_type": "markdown",
   "metadata": {},
   "source": [
    "## Problem 2: Summarize clusters"
   ]
  },
  {
   "cell_type": "markdown",
   "metadata": {},
   "source": [
    "Once you have a clustering, you can try to see whether it is meaningful. One useful technique in that context is to generate a **summary** for each cluster by extracting the $n$ highest-weighted terms from the centroid of each cluster. Your next task is to implement this approach.\n",
    "\n",
    "**Hint:** You will need to construct an &lsquo;inverted vocabulary&rsquo; that allows you to map from the index of a term back to the original term."
   ]
  },
  {
   "cell_type": "code",
   "execution_count": 7,
   "metadata": {},
   "outputs": [
    {
     "name": "stdout",
     "output_type": "stream",
     "text": [
      "0 : ['really', 'software', 'work', 'did', 'music', 'does', 'time', 'good', 'use', 'album', 'just', 'great', 'cd', 'like', 'product']\n",
      "1 : ['characters', 'people', 'really', 'quot', 'did', 'great', 'books', 'good', 'just', 'like', 'story', 'read', 'film', 'movie', 'book']\n",
      "2 : ['zoom', 'picture', 'cameras', 'good', 'case', 'great', 'quality', 'battery', 'flash', 'use', 'digital', 'canon', 'pictures', 'lens', 'camera']\n"
     ]
    }
   ],
   "source": [
    "# TODO: Enter code here to compute the cluster summaries and print them\n",
    "import numpy as np\n",
    "\n",
    "n = 15\n",
    "\n",
    "centroids = KM_cluster.cluster_centers_\n",
    "vocabulary = {value:key for key,value in vectorizer.vocabulary_.items()}\n",
    "\n",
    "for i in range(len(centroids)):\n",
    "    index = np.argsort(centroids[i])[-n:]\n",
    "    print(f\"{i} : {[vocabulary[j] for j in index]}\")\n"
   ]
  },
  {
   "cell_type": "markdown",
   "metadata": {},
   "source": [
    "Once you have computed the cluster summaries, take a minute to reflect on their quality. Is it clear what the reviews in a given cluster are about? Do the cluster summaries contain any unexpected terms?\n",
    "\n",
    "*We saw earlier that cluster0 was the most \"dense\" and it is also reflected in the summary that the clustering is not very good for this cluster. There are some words that indicate a cluster about music with words like - album, cd, music. But then there are some common english words like - like, really, did. The second cluster is also a bit confusing because there are 2 themes - books & movies. It can be reasoned that common words can be used in reviews about movies & books like - story, characters, people, which is what the summary reflects. The third cluster is the smallest & most clearest. It seems to be about reviews for different camera models.*"
   ]
  },
  {
   "cell_type": "markdown",
   "metadata": {},
   "source": [
    "## Problem 3: Compare clusterings using the Rand index"
   ]
  },
  {
   "cell_type": "markdown",
   "metadata": {},
   "source": [
    "In some scenarios, you may have gold-standard class labels available for at least a subset of your documents. In these cases you can compute the **Rand index** of a clustering, and use this measure to compare the quality of different clusterings.\n",
    "\n",
    "To compute the Rand index, we view a clustering as a binary classifier on (unordered) pairs of documents. The classifier predicts &lsquo;positive&rsquo; if and only if the two documents belong to the same cluster. The (non-normalized) Rand index of the clustering is the accuracy of this classifier relative to a reference in which a document pair belongs to the &lsquo;positive&rsquo; class if and only if the two documents in the pair have the same gold-standard class label. You are supposed to implement the procedure yourselves, not import an external function.\n",
    "\n",
    "Compare clusterings with $k \\in \\{1,3,5,7\\}$ clusters. As your evaluation data, use the first 500 documents from the original data set along with their gold-standard categories (from the `category` column)."
   ]
  },
  {
   "cell_type": "code",
   "execution_count": 8,
   "metadata": {},
   "outputs": [
    {
     "name": "stdout",
     "output_type": "stream",
     "text": [
      "Rand Index for Clustering with k = 1 : 0.1663\n",
      "Rand Index for Clustering with k = 3 : 0.5572\n",
      "Rand Index for Clustering with k = 5 : 0.6834\n",
      "Rand Index for Clustering with k = 7 : 0.764\n"
     ]
    }
   ],
   "source": [
    "# TODO: Enter code here to (manually) compute the Rand indices for the two clusterings\n",
    "\n",
    "from scipy.special import comb\n",
    "\n",
    "k = [1,3,5,7]\n",
    "eval_data = df[:500]\n",
    "eval_labels = pd.factorize(eval_data.category)[0]\n",
    "eval_reviews = reviews[:500]\n",
    "\n",
    "def rand_index(cluster_labels, goldstandard_labels):\n",
    "    \n",
    "    # TP+FP = sum(nC2 for each cluster)\n",
    "    tp_fp = sum(comb(pd.value_counts(cluster_labels), 2))\n",
    "    \n",
    "    # TP+FN = sum(nC2 for goldstandard labels)\n",
    "    tp_fn = sum(comb(pd.value_counts(goldstandard_labels), 2))\n",
    "    \n",
    "    # create ordered pairs of cluster labels & goldstandard labels\n",
    "    ord_pairs = np.r_['1,2,0', cluster_labels, goldstandard_labels]\n",
    "    \n",
    "    # TP = sum(For each cluster sum(number_matching_labels CHOOSE 2))\n",
    "    tp = sum(sum(comb(pd.value_counts(ord_pairs[ord_pairs[:, 0] == i, 1]), 2)) for i in np.unique(cluster_labels))\n",
    "    \n",
    "    # FP = TP+FP - TP\n",
    "    fp = tp_fp - tp\n",
    "    \n",
    "    # FN = TP+FN - TP\n",
    "    fn = tp_fn - tp\n",
    "    \n",
    "    # TN = nC2 - TP - FP - FN\n",
    "    tn = comb(len(ord_pairs), 2) - tp - fp - fn\n",
    "    \n",
    "    # return rand_index\n",
    "    return (tp + tn)/(tp + fp + fn + tn)\n",
    "\n",
    "\n",
    "for i in k:\n",
    "    KM = KMeans(n_clusters = i,\n",
    "                n_init = 5, \n",
    "                random_state = 999).fit(reviews)\n",
    "    \n",
    "    cluster_labels = KM.labels_[:500]\n",
    "    \n",
    "    print(f\"Rand Index for Clustering with k = {i} : {round(rand_index(cluster_labels, eval_labels),4)}\")\n",
    "    \n",
    "    \n",
    "    \n",
    "    \n"
   ]
  },
  {
   "cell_type": "markdown",
   "metadata": {},
   "source": [
    "*As we kept increasing the allowed clusters, the higher RI values we see. Which implies that the dataset has multiple categories. In the previous step we saw that with k=3, we were getting a very large meaningless cluster0, but the second cluster seemed to be a mix of 2 topics. The third cluster had a clear theme. This exercise shows that going as high as k=7 only gives about 76% accuracy for the data clustering.*"
   ]
  },
  {
   "cell_type": "markdown",
   "metadata": {},
   "source": [
    "## Topic modelling data set"
   ]
  },
  {
   "cell_type": "markdown",
   "metadata": {},
   "source": [
    "The data set for the topic modelling part of this lab is the collection of all [State of the Union](https://en.wikipedia.org/wiki/State_of_the_Union) addresses from the years 1975–2000. These speeches come as a single text file with one sentence per line. The following code cell prints the first 5 lines from the data file:"
   ]
  },
  {
   "cell_type": "code",
   "execution_count": 9,
   "metadata": {},
   "outputs": [
    {
     "name": "stdout",
     "output_type": "stream",
     "text": [
      "mr speaker mr vice president members of the 94th congress and distinguished guests\n",
      "twenty six years ago a freshman congressman a young fellow with lots of idealism who was out to change the world stood before sam rayburn in the well of the house and solemnly swore to the same oath that all of you took yesterday an unforgettable experience and i congratulate you all\n",
      "two days later that same freshman stood at the back of this great chamber over there someplace as president truman all charged up by his single handed election victory reported as the constitution requires on the state of the union\n",
      "when the bipartisan applause stopped president truman said i am happy to report to this 81st congress that the state of the union is good our nation is better able than ever before to meet the needs of the american people and to give them their fair chance in the pursuit of happiness it is foremost among the nations of the world in the search for peace\n",
      "today that freshman member from michigan stands where mr truman stood and i must say to you that the state of the union is not good\n",
      "millions of americans are out of work\n"
     ]
    }
   ],
   "source": [
    "with open('sotu_1975_2000.txt') as source:\n",
    "    for i, line in enumerate(source):\n",
    "        print(line.rstrip())\n",
    "        if i >= 5:\n",
    "            break"
   ]
  },
  {
   "cell_type": "markdown",
   "metadata": {},
   "source": [
    "Take a few minutes to think about what topics you would expect in this data set.\n",
    "\n",
    "*Possible topics: political speech, unemployment, ceremony, agenda*"
   ]
  },
  {
   "cell_type": "markdown",
   "metadata": {},
   "source": [
    "## Problem 4: Train a topic model"
   ]
  },
  {
   "cell_type": "markdown",
   "metadata": {},
   "source": [
    "Your first task on the topic modelling data is to train an LDA model. For this task you will be using [spaCy](https://spacy.io/) and the [gensim](https://radimrehurek.com/gensim/) topic modelling library.\n",
    "\n",
    "Start by preprocessing the data using spaCy. Given that the data set for this problem is rather small, you do not have to exclude any components from the standard pipeline. Filter out stop words, non-alphabetic tokens, and tokens less than 3 characters in length. Store the documents as a nested list where the first level of nesting corresponds to the sentences and the second level corresponds to the tokens in each sentence."
   ]
  },
  {
   "cell_type": "code",
   "execution_count": 10,
   "metadata": {},
   "outputs": [
    {
     "name": "stderr",
     "output_type": "stream",
     "text": [
      "D:\\Anaconda\\lib\\site-packages\\spacy\\language.py:1895: UserWarning: [W123] Argument disable with value ['senter'] is used instead of ['senter'] as specified in the config. Be aware that this might affect other components in your pipeline.\n",
      "  warnings.warn(\n"
     ]
    }
   ],
   "source": [
    "# TODO: Replace the following lines with your own code for preprocessing the documents\n",
    "import spacy\n",
    "\n",
    "nlp = spacy.load(\"en_core_web_sm\", disable=['senter'])\n",
    "def preprocess(text):\n",
    "    doc_list = []\n",
    "    for token in nlp(text):\n",
    "        if token.is_stop is False and token.is_alpha is True and len(token) >= 3:\n",
    "            doc_list.append(token.text)\n",
    "    return doc_list\n",
    "\n",
    "with open('sotu_1975_2000.txt') as source:\n",
    "    documents = [preprocess(line) for line in source]"
   ]
  },
  {
   "cell_type": "markdown",
   "metadata": {},
   "source": [
    "Test your preprocessing by running the following cell:"
   ]
  },
  {
   "cell_type": "code",
   "execution_count": 11,
   "metadata": {},
   "outputs": [
    {
     "data": {
      "text/plain": [
       "'reduce oil imports million barrels day end year million barrels day end'"
      ]
     },
     "execution_count": 11,
     "metadata": {},
     "output_type": "execute_result"
    }
   ],
   "source": [
    "' '.join(documents[42])"
   ]
  },
  {
   "cell_type": "markdown",
   "metadata": {},
   "source": [
    "You should get the following output:"
   ]
  },
  {
   "cell_type": "raw",
   "metadata": {},
   "source": [
    "'reduce oil imports million barrels day end year million barrels day end'"
   ]
  },
  {
   "cell_type": "markdown",
   "metadata": {},
   "source": [
    "Once you have the list of documents, skim the section [Pre-process and vectorize the documents](https://radimrehurek.com/gensim/auto_examples/tutorials/run_lda.html#pre-process-and-vectorize-the-documents) of the gensim documentation to learn how to create the dictionary and the vectorized corpus representation required by gensim. (Note that you cannot use the standard scikit-learn pipeline in this case.) Then, write code to train an [LdaModel](https://radimrehurek.com/gensim/models/ldamodel.html) for $k=10$ topics, and using default values for all other parameters."
   ]
  },
  {
   "cell_type": "code",
   "execution_count": 12,
   "metadata": {},
   "outputs": [
    {
     "name": "stdout",
     "output_type": "stream",
     "text": [
      "Number of unique tokens: 8496\n",
      "Number of documents: 2898\n"
     ]
    }
   ],
   "source": [
    "# TODO: Enter code here to train an LDA model and store it in a variable `model`\n",
    "# most of the code in this section is taken from the gensim documentation\n",
    "\n",
    "from gensim.corpora import Dictionary\n",
    "\n",
    "# Create a dictionary representation of the documents.\n",
    "dictionary = Dictionary(documents)\n",
    "\n",
    "# Bag-of-words representation of the documents.\n",
    "corpus = [dictionary.doc2bow(doc) for doc in documents]\n",
    "\n",
    "print('Number of unique tokens: %d' % len(dictionary))\n",
    "print('Number of documents: %d' % len(corpus))"
   ]
  },
  {
   "cell_type": "code",
   "execution_count": 13,
   "metadata": {},
   "outputs": [],
   "source": [
    "# Train LDA model.\n",
    "from gensim.models import LdaModel\n",
    "\n",
    "# Set training parameters.\n",
    "num_topics = 10\n",
    "#chunksize = 2000\n",
    "#passes = 20\n",
    "#iterations = 400\n",
    "#eval_every = None  # Don't evaluate model perplexity, takes too much time.\n",
    "\n",
    "# Make an index to word dictionary.\n",
    "temp = dictionary[0]  # This is only to \"load\" the dictionary.\n",
    "id2word = dictionary.id2token\n",
    "\n",
    "model = LdaModel(\n",
    "    corpus=corpus,\n",
    "    id2word=id2word,\n",
    "    #chunksize=chunksize,\n",
    "    #alpha='auto',\n",
    "    #eta='auto',\n",
    "    #iterations=iterations,\n",
    "    num_topics=num_topics,\n",
    "    #passes=passes,\n",
    "    #eval_every=eval_every\n",
    ")"
   ]
  },
  {
   "cell_type": "markdown",
   "metadata": {},
   "source": [
    "Once you have a trained model, run the following cell to print the topics:"
   ]
  },
  {
   "cell_type": "code",
   "execution_count": 14,
   "metadata": {},
   "outputs": [
    {
     "data": {
      "text/plain": [
       "[(0,\n",
       "  '0.018*\"world\" + 0.015*\"america\" + 0.009*\"people\" + 0.007*\"american\" + 0.006*\"economy\" + 0.006*\"years\" + 0.006*\"peace\" + 0.006*\"nation\" + 0.006*\"work\" + 0.006*\"tonight\"'),\n",
       " (1,\n",
       "  '0.017*\"america\" + 0.014*\"people\" + 0.011*\"new\" + 0.008*\"know\" + 0.007*\"work\" + 0.007*\"trade\" + 0.007*\"american\" + 0.006*\"thank\" + 0.006*\"help\" + 0.006*\"way\"'),\n",
       " (2,\n",
       "  '0.008*\"covenant\" + 0.007*\"grade\" + 0.007*\"new\" + 0.006*\"energy\" + 0.006*\"people\" + 0.006*\"year\" + 0.005*\"world\" + 0.005*\"know\" + 0.005*\"surplus\" + 0.005*\"challenge\"'),\n",
       " (3,\n",
       "  '0.010*\"years\" + 0.006*\"social\" + 0.006*\"million\" + 0.006*\"tonight\" + 0.006*\"children\" + 0.005*\"lowest\" + 0.005*\"people\" + 0.005*\"schools\" + 0.005*\"security\" + 0.005*\"toxic\"'),\n",
       " (4,\n",
       "  '0.006*\"years\" + 0.006*\"congress\" + 0.006*\"partnerships\" + 0.005*\"community\" + 0.005*\"support\" + 0.005*\"united\" + 0.005*\"states\" + 0.005*\"grades\" + 0.005*\"world\" + 0.004*\"punish\"'),\n",
       " (5,\n",
       "  '0.014*\"children\" + 0.013*\"people\" + 0.011*\"work\" + 0.010*\"new\" + 0.009*\"year\" + 0.008*\"america\" + 0.008*\"let\" + 0.007*\"american\" + 0.007*\"years\" + 0.007*\"century\"'),\n",
       " (6,\n",
       "  '0.012*\"americans\" + 0.012*\"security\" + 0.009*\"years\" + 0.008*\"congress\" + 0.008*\"care\" + 0.006*\"social\" + 0.006*\"year\" + 0.006*\"government\" + 0.006*\"nuclear\" + 0.005*\"world\"'),\n",
       " (7,\n",
       "  '0.016*\"new\" + 0.014*\"year\" + 0.008*\"congress\" + 0.007*\"america\" + 0.007*\"people\" + 0.007*\"work\" + 0.006*\"years\" + 0.006*\"american\" + 0.006*\"government\" + 0.005*\"nuclear\"'),\n",
       " (8,\n",
       "  '0.010*\"government\" + 0.009*\"new\" + 0.008*\"nation\" + 0.008*\"country\" + 0.008*\"america\" + 0.007*\"peace\" + 0.007*\"support\" + 0.006*\"americans\" + 0.006*\"states\" + 0.006*\"years\"'),\n",
       " (9,\n",
       "  '0.010*\"america\" + 0.009*\"help\" + 0.009*\"year\" + 0.007*\"years\" + 0.007*\"congress\" + 0.006*\"government\" + 0.005*\"nation\" + 0.005*\"new\" + 0.005*\"bosnia\" + 0.004*\"support\"')]"
      ]
     },
     "execution_count": 14,
     "metadata": {},
     "output_type": "execute_result"
    }
   ],
   "source": [
    "model.print_topics()"
   ]
  },
  {
   "cell_type": "markdown",
   "metadata": {},
   "source": [
    "Inspect the topics. Can you &lsquo;label&rsquo; each topic with a short description of what it is about? Do the topics match your expectations?\n",
    "\n",
    "*Mostly the topics seem to be incoherent. Following are some far fetched guesses on our part*\n",
    "\n",
    "- Topic 0: How America is the big brother to the world.\n",
    "- Topic 1: US budget\n",
    "- Topic 2: Health care and employment in the budget\n",
    "- Topic 3: national security, education & budget cuts\n",
    "- Topic 4: workforce related issues (maybe?)\n",
    "- Topic 5: welfare, health & care for american people through budget policies\n",
    "- Topic 6: Crime and how it affects working Americans\n",
    "- Topic 7: Defence budget\n",
    "- Topic 8: Education and Youth\n",
    "- Topic 9: Higher education (maybe scholarships, loans etc)"
   ]
  },
  {
   "cell_type": "markdown",
   "metadata": {},
   "source": [
    "## Problem 5: Monitor a topic model for convergence"
   ]
  },
  {
   "cell_type": "markdown",
   "metadata": {},
   "source": [
    "When learning an LDA model, it is important to make sure that the training algorithm has converged to a stable posterior distribution. One way to do so is to plot, after each training epochs (or &lsquo;pass&rsquo;, in gensim parlance) the log likelihood of the training data under the posterior. Your last task in this lab is to create such a plot and, based on this, to suggest an appropriate number of epochs.\n",
    "\n",
    "To collect information about the posterior likelihood after each pass, we need to enable the logging facilities of gensim. Once this is done, gensim will add various diagnostics to a log file `gensim.log`."
   ]
  },
  {
   "cell_type": "code",
   "execution_count": 15,
   "metadata": {},
   "outputs": [],
   "source": [
    "import logging\n",
    "\n",
    "logging.basicConfig(filename='gensim.log', format='%(asctime)s:%(levelname)s:%(message)s', level=logging.INFO)"
   ]
  },
  {
   "cell_type": "markdown",
   "metadata": {},
   "source": [
    "The following function will parse the generated logfile and return the list of log likelihoods."
   ]
  },
  {
   "cell_type": "code",
   "execution_count": 16,
   "metadata": {},
   "outputs": [],
   "source": [
    "import re\n",
    "\n",
    "def parse_logfile():\n",
    "    matcher = re.compile('(-*\\d+\\.\\d+) per-word .* (\\d+\\.\\d+) perplexity')\n",
    "    likelihoods = []\n",
    "    with open('gensim.log') as source:\n",
    "        for line in source:\n",
    "            match = matcher.search(line)\n",
    "            if match:\n",
    "                likelihoods.append(float(match.group(1)))\n",
    "    return likelihoods"
   ]
  },
  {
   "cell_type": "markdown",
   "metadata": {},
   "source": [
    "Your task now is to re-train your LDA model for 50&nbsp;passes, retrieve the list of log likelihoods, and create a plot from this data."
   ]
  },
  {
   "cell_type": "code",
   "execution_count": 26,
   "metadata": {},
   "outputs": [],
   "source": [
    "# TODO: Enter code here to generate the convergence plot\n",
    "with open('gensim.log', 'w'):\n",
    "    pass\n",
    "\n",
    "model = LdaModel(\n",
    "    corpus=corpus,\n",
    "    id2word=id2word,\n",
    "    #chunksize=chunksize,\n",
    "    #alpha='auto',\n",
    "    #eta='auto',\n",
    "    #iterations=iterations,\n",
    "    num_topics=num_topics,\n",
    "    passes=50,\n",
    "    #eval_every=eval_every\n",
    ")\n",
    "\n",
    "loglikelihoods = parse_logfile()\n",
    "\n"
   ]
  },
  {
   "cell_type": "code",
   "execution_count": 27,
   "metadata": {},
   "outputs": [
    {
     "data": {
      "text/plain": [
       "[<matplotlib.lines.Line2D at 0x2a704aa50d0>]"
      ]
     },
     "execution_count": 27,
     "metadata": {},
     "output_type": "execute_result"
    },
    {
     "data": {
      "image/png": "[encoded data removed]",
      "text/plain": [
       "<Figure size 432x288 with 1 Axes>"
      ]
     },
     "metadata": {
      "needs_background": "light"
     },
     "output_type": "display_data"
    }
   ],
   "source": [
    "import matplotlib.pyplot as plt\n",
    "plt.plot(loglikelihoods)"
   ]
  },
  {
   "cell_type": "code",
   "execution_count": 28,
   "metadata": {},
   "outputs": [
    {
     "name": "stdout",
     "output_type": "stream",
     "text": [
      "[-9.702, -9.012, -8.669, -8.37, -8.214, -8.147, -8.115, -8.095, -8.08, -8.069, -8.06, -8.053, -8.047, -8.041, -8.036, -8.032, -8.028, -8.024, -8.021, -8.019, -8.016, -8.014, -8.012, -8.01, -8.008, -8.007, -8.005, -8.004, -8.002, -8.001, -8.0, -7.999, -7.998, -7.997, -7.996, -7.995, -7.994, -7.993, -7.992, -7.991, -7.991, -7.99, -7.989, -7.988, -7.988, -7.987, -7.986, -7.986, -7.985, -7.985]\n"
     ]
    }
   ],
   "source": [
    "print(loglikelihoods)"
   ]
  },
  {
   "cell_type": "code",
   "execution_count": 29,
   "metadata": {},
   "outputs": [
    {
     "data": {
      "text/plain": [
       "-8.016"
      ]
     },
     "execution_count": 29,
     "metadata": {},
     "output_type": "execute_result"
    }
   ],
   "source": [
    "loglikelihoods[20]"
   ]
  },
  {
   "cell_type": "markdown",
   "metadata": {},
   "source": [
    "How do you interpret your plot? Based on the plot, what would be a reasonable choice for the number of passes? Retrain your LDA model with that number and re-inspect the topics it finds. Do you consider the new topics to be &lsquo;better&rsquo; than the ones that you got from the 1-pass model in Problem&nbsp;4?\n",
    "\n",
    "*Upon inspection the plot reflects that log-likelihood starts to converge to max value somewhere near 10 passes (elbow). This means that thee is not a lot of incremental benefit in terms of computational expenses beyond choosing a value beyond, say 20. Considering this graph shows convergence, we can pick a value higher than 50 too for more coherence. Since there is no one correct solution, we can test for different passes and compare. But the elbow plot, gives us a reference point to start from. So, we test for 20, 30, 40 & 80 passes.*"
   ]
  },
  {
   "cell_type": "code",
   "execution_count": 30,
   "metadata": {},
   "outputs": [],
   "source": [
    "model_20 = LdaModel(\n",
    "    corpus=corpus,\n",
    "    id2word=id2word,\n",
    "    num_topics=num_topics,\n",
    "    passes=20\n",
    "    )\n",
    "\n",
    "model_30 = LdaModel(\n",
    "    corpus=corpus,\n",
    "    id2word=id2word,\n",
    "    num_topics=num_topics,\n",
    "    passes=30\n",
    "    )\n",
    "\n",
    "model_40 = LdaModel(\n",
    "    corpus=corpus,\n",
    "    id2word=id2word,\n",
    "    num_topics=num_topics,\n",
    "    passes=40\n",
    "    )\n",
    "\n",
    "model_80 = LdaModel(\n",
    "    corpus=corpus,\n",
    "    id2word=id2word,\n",
    "    num_topics=num_topics,\n",
    "    passes=80\n",
    "    )"
   ]
  },
  {
   "cell_type": "code",
   "execution_count": 31,
   "metadata": {},
   "outputs": [
    {
     "data": {
      "text/plain": [
       "[(0,\n",
       "  '0.023*\"world\" + 0.017*\"america\" + 0.015*\"peace\" + 0.010*\"people\" + 0.009*\"nations\" + 0.008*\"freedom\" + 0.008*\"american\" + 0.007*\"united\" + 0.006*\"security\" + 0.006*\"states\"'),\n",
       " (1,\n",
       "  '0.016*\"america\" + 0.014*\"years\" + 0.011*\"people\" + 0.011*\"year\" + 0.009*\"children\" + 0.009*\"world\" + 0.008*\"great\" + 0.008*\"century\" + 0.007*\"americans\" + 0.007*\"tonight\"'),\n",
       " (2,\n",
       "  '0.015*\"congress\" + 0.015*\"children\" + 0.011*\"new\" + 0.009*\"teachers\" + 0.009*\"help\" + 0.008*\"federal\" + 0.007*\"schools\" + 0.007*\"year\" + 0.007*\"national\" + 0.007*\"standards\"'),\n",
       " (3,\n",
       "  '0.015*\"people\" + 0.015*\"work\" + 0.014*\"new\" + 0.013*\"year\" + 0.012*\"tax\" + 0.012*\"years\" + 0.012*\"children\" + 0.010*\"families\" + 0.009*\"help\" + 0.009*\"care\"'),\n",
       " (4,\n",
       "  '0.013*\"new\" + 0.010*\"energy\" + 0.010*\"congress\" + 0.008*\"trade\" + 0.007*\"policy\" + 0.007*\"economic\" + 0.007*\"administration\" + 0.006*\"nation\" + 0.005*\"development\" + 0.005*\"program\"'),\n",
       " (5,\n",
       "  '0.022*\"health\" + 0.017*\"care\" + 0.011*\"federal\" + 0.011*\"women\" + 0.011*\"medical\" + 0.010*\"year\" + 0.010*\"rights\" + 0.009*\"medicare\" + 0.007*\"laws\" + 0.007*\"law\"'),\n",
       " (6,\n",
       "  '0.022*\"people\" + 0.021*\"welfare\" + 0.015*\"work\" + 0.012*\"country\" + 0.011*\"right\" + 0.011*\"responsibility\" + 0.010*\"crime\" + 0.009*\"want\" + 0.009*\"americans\" + 0.009*\"god\"'),\n",
       " (7,\n",
       "  '0.014*\"security\" + 0.013*\"social\" + 0.009*\"percent\" + 0.009*\"let\" + 0.008*\"gun\" + 0.007*\"surplus\" + 0.007*\"tonight\" + 0.006*\"days\" + 0.006*\"increase\" + 0.006*\"work\"'),\n",
       " (8,\n",
       "  '0.017*\"america\" + 0.013*\"union\" + 0.012*\"world\" + 0.010*\"government\" + 0.009*\"nation\" + 0.008*\"people\" + 0.008*\"state\" + 0.007*\"new\" + 0.007*\"century\" + 0.007*\"national\"'),\n",
       " (9,\n",
       "  '0.025*\"budget\" + 0.025*\"spending\" + 0.017*\"federal\" + 0.016*\"deficit\" + 0.014*\"government\" + 0.012*\"congress\" + 0.011*\"growth\" + 0.011*\"americans\" + 0.010*\"cut\" + 0.010*\"billion\"')]"
      ]
     },
     "execution_count": 31,
     "metadata": {},
     "output_type": "execute_result"
    }
   ],
   "source": [
    "model_20.print_topics()"
   ]
  },
  {
   "cell_type": "markdown",
   "metadata": {},
   "source": [
    "*We see some coherent topics:*\n",
    "\n",
    "- 0: world peace and freedom\n",
    "- 1: American greatness over the years ?? (mostly incoherent)\n",
    "- 2: Education standards\n",
    "- 3: maybe about families, tax regime in the new year (mostly incoherent)\n",
    "- 4: New trade policies focussed on national development\n",
    "- 5: Healthcare with some ascpect of specific laws pertaining to women\n",
    "- 6: Work & welfare rights (mostly incoherent)\n",
    "- 7: Another (mostly incoherent) mixed topic with some aspect of work related policies\n",
    "- 8: (mostly incoherent)\n",
    "- 9: Might be a high level summary topic of the SOTU"
   ]
  },
  {
   "cell_type": "code",
   "execution_count": 32,
   "metadata": {},
   "outputs": [
    {
     "data": {
      "text/plain": [
       "[(0,\n",
       "  '0.013*\"america\" + 0.009*\"thank\" + 0.007*\"congress\" + 0.007*\"states\" + 0.006*\"united\" + 0.006*\"east\" + 0.006*\"international\" + 0.005*\"world\" + 0.005*\"africa\" + 0.005*\"peace\"'),\n",
       " (1,\n",
       "  '0.021*\"health\" + 0.017*\"years\" + 0.015*\"care\" + 0.014*\"americans\" + 0.012*\"america\" + 0.011*\"people\" + 0.009*\"crime\" + 0.008*\"insurance\" + 0.007*\"medicare\" + 0.007*\"work\"'),\n",
       " (2,\n",
       "  '0.028*\"federal\" + 0.020*\"administration\" + 0.018*\"government\" + 0.015*\"programs\" + 0.013*\"policy\" + 0.009*\"congress\" + 0.008*\"years\" + 0.007*\"president\" + 0.006*\"regulations\" + 0.006*\"agencies\"'),\n",
       " (3,\n",
       "  '0.027*\"tax\" + 0.027*\"budget\" + 0.016*\"year\" + 0.014*\"government\" + 0.013*\"growth\" + 0.013*\"billion\" + 0.012*\"federal\" + 0.011*\"inflation\" + 0.011*\"economic\" + 0.011*\"deficit\"'),\n",
       " (4,\n",
       "  '0.020*\"let\" + 0.019*\"people\" + 0.017*\"know\" + 0.015*\"america\" + 0.013*\"work\" + 0.013*\"children\" + 0.012*\"american\" + 0.008*\"family\" + 0.008*\"americans\" + 0.008*\"country\"'),\n",
       " (5,\n",
       "  '0.017*\"soviet\" + 0.016*\"nuclear\" + 0.009*\"forces\" + 0.008*\"europe\" + 0.008*\"military\" + 0.008*\"states\" + 0.007*\"strategic\" + 0.007*\"agreement\" + 0.007*\"continue\" + 0.006*\"united\"'),\n",
       " (6,\n",
       "  '0.013*\"security\" + 0.012*\"energy\" + 0.011*\"nation\" + 0.011*\"new\" + 0.011*\"state\" + 0.010*\"years\" + 0.009*\"world\" + 0.009*\"social\" + 0.008*\"union\" + 0.008*\"tonight\"'),\n",
       " (7,\n",
       "  '0.028*\"world\" + 0.018*\"america\" + 0.012*\"peace\" + 0.012*\"american\" + 0.011*\"people\" + 0.010*\"new\" + 0.010*\"freedom\" + 0.009*\"trade\" + 0.009*\"economy\" + 0.008*\"nations\"'),\n",
       " (8,\n",
       "  '0.015*\"congress\" + 0.013*\"new\" + 0.009*\"year\" + 0.009*\"ask\" + 0.008*\"women\" + 0.008*\"americans\" + 0.007*\"citizens\" + 0.007*\"crime\" + 0.007*\"laws\" + 0.007*\"community\"'),\n",
       " (9,\n",
       "  '0.012*\"work\" + 0.012*\"help\" + 0.012*\"children\" + 0.012*\"new\" + 0.011*\"congress\" + 0.010*\"child\" + 0.010*\"people\" + 0.010*\"school\" + 0.010*\"year\" + 0.010*\"schools\"')]"
      ]
     },
     "execution_count": 32,
     "metadata": {},
     "output_type": "execute_result"
    }
   ],
   "source": [
    "model_30.print_topics()"
   ]
  },
  {
   "cell_type": "markdown",
   "metadata": {},
   "source": [
    "*We noted some improved coherence in the topics with 30 passes*\n",
    "\n",
    "- 0: Foreign Policy with focus on East & Africa\n",
    "- 1: Healthcare insurance with some overlap with crime\n",
    "- 2: Federal regulations\n",
    "- 3: Economic summary of the country\n",
    "- 4: Importance of American family values and children\n",
    "- 5: Foreign Military policy with Europe\n",
    "- 6: mostly incoherent, but maybe national security or energy policy?\n",
    "- 7: Peace keeping efforts, but some overlap with trade policies\n",
    "- 8: Law & Order in the country with focus on women??\n",
    "- 9: Policies for children & schools"
   ]
  },
  {
   "cell_type": "code",
   "execution_count": 33,
   "metadata": {},
   "outputs": [
    {
     "data": {
      "text/plain": [
       "[(0,\n",
       "  '0.012*\"grade\" + 0.010*\"row\" + 0.007*\"buying\" + 0.006*\"dropped\" + 0.006*\"spend\" + 0.005*\"assault\" + 0.005*\"proposal\" + 0.004*\"sensible\" + 0.004*\"threats\" + 0.004*\"government\"'),\n",
       " (1,\n",
       "  '0.033*\"tax\" + 0.018*\"new\" + 0.009*\"credit\" + 0.009*\"investment\" + 0.008*\"development\" + 0.008*\"incentives\" + 0.007*\"class\" + 0.007*\"propose\" + 0.007*\"middle\" + 0.007*\"businesses\"'),\n",
       " (2,\n",
       "  '0.026*\"america\" + 0.019*\"world\" + 0.013*\"people\" + 0.010*\"nation\" + 0.010*\"century\" + 0.010*\"new\" + 0.009*\"years\" + 0.009*\"tonight\" + 0.008*\"americans\" + 0.008*\"time\"'),\n",
       " (3,\n",
       "  '0.017*\"crime\" + 0.013*\"america\" + 0.012*\"community\" + 0.010*\"people\" + 0.010*\"peace\" + 0.008*\"new\" + 0.007*\"congress\" + 0.007*\"american\" + 0.006*\"year\" + 0.006*\"police\"'),\n",
       " (4,\n",
       "  '0.018*\"federal\" + 0.016*\"security\" + 0.015*\"budget\" + 0.013*\"social\" + 0.012*\"years\" + 0.012*\"year\" + 0.011*\"spending\" + 0.010*\"programs\" + 0.009*\"billion\" + 0.009*\"congress\"'),\n",
       " (5,\n",
       "  '0.020*\"speaker\" + 0.013*\"president\" + 0.013*\"weapons\" + 0.012*\"fellow\" + 0.011*\"congress\" + 0.011*\"nuclear\" + 0.011*\"ban\" + 0.010*\"treaty\" + 0.009*\"members\" + 0.008*\"guests\"'),\n",
       " (6,\n",
       "  '0.024*\"energy\" + 0.018*\"thank\" + 0.009*\"oil\" + 0.008*\"god\" + 0.008*\"drugs\" + 0.007*\"bless\" + 0.007*\"percent\" + 0.007*\"production\" + 0.006*\"legislation\" + 0.006*\"drug\"'),\n",
       " (7,\n",
       "  '0.014*\"people\" + 0.012*\"new\" + 0.012*\"american\" + 0.011*\"government\" + 0.009*\"help\" + 0.009*\"year\" + 0.009*\"work\" + 0.009*\"america\" + 0.008*\"congress\" + 0.007*\"know\"'),\n",
       " (8,\n",
       "  '0.021*\"care\" + 0.020*\"health\" + 0.019*\"work\" + 0.019*\"children\" + 0.016*\"welfare\" + 0.015*\"people\" + 0.014*\"child\" + 0.012*\"families\" + 0.011*\"americans\" + 0.011*\"family\"'),\n",
       " (9,\n",
       "  '0.014*\"world\" + 0.011*\"states\" + 0.010*\"nations\" + 0.009*\"soviet\" + 0.009*\"united\" + 0.009*\"nuclear\" + 0.008*\"economic\" + 0.007*\"policy\" + 0.007*\"international\" + 0.006*\"forces\"')]"
      ]
     },
     "execution_count": 33,
     "metadata": {},
     "output_type": "execute_result"
    }
   ],
   "source": [
    "model_40.print_topics()"
   ]
  },
  {
   "cell_type": "markdown",
   "metadata": {},
   "source": [
    "*Not detailing this out, but we noted a similar coherence level of topics with 40 passes as with 30 passes.*"
   ]
  },
  {
   "cell_type": "code",
   "execution_count": 57,
   "metadata": {},
   "outputs": [
    {
     "data": {
      "text/plain": [
       "[(0,\n",
       "  '0.016*\"space\" + 0.013*\"new\" + 0.006*\"history\" + 0.006*\"second\" + 0.006*\"meet\" + 0.006*\"world\" + 0.005*\"teacher\" + 0.005*\"imports\" + 0.005*\"rewards\" + 0.004*\"fuels\"'),\n",
       " (1,\n",
       "  '0.012*\"gun\" + 0.009*\"guns\" + 0.008*\"chemical\" + 0.008*\"new\" + 0.007*\"row\" + 0.007*\"science\" + 0.006*\"cancer\" + 0.006*\"organized\" + 0.005*\"frontiers\" + 0.005*\"leading\"'),\n",
       " (2,\n",
       "  '0.023*\"america\" + 0.015*\"new\" + 0.013*\"children\" + 0.011*\"work\" + 0.011*\"people\" + 0.010*\"world\" + 0.010*\"americans\" + 0.009*\"community\" + 0.009*\"century\" + 0.009*\"nation\"'),\n",
       " (3,\n",
       "  '0.013*\"new\" + 0.011*\"economic\" + 0.009*\"energy\" + 0.008*\"policy\" + 0.008*\"administration\" + 0.007*\"federal\" + 0.007*\"program\" + 0.007*\"congress\" + 0.007*\"trade\" + 0.007*\"growth\"'),\n",
       " (4,\n",
       "  '0.015*\"congress\" + 0.014*\"college\" + 0.013*\"people\" + 0.011*\"education\" + 0.009*\"pass\" + 0.009*\"children\" + 0.008*\"young\" + 0.008*\"ask\" + 0.007*\"new\" + 0.007*\"bill\"'),\n",
       " (5,\n",
       "  '0.022*\"health\" + 0.022*\"care\" + 0.020*\"work\" + 0.017*\"children\" + 0.016*\"welfare\" + 0.014*\"child\" + 0.012*\"families\" + 0.011*\"help\" + 0.010*\"schools\" + 0.009*\"people\"'),\n",
       " (6,\n",
       "  '0.021*\"budget\" + 0.018*\"year\" + 0.016*\"security\" + 0.014*\"government\" + 0.012*\"social\" + 0.010*\"tax\" + 0.010*\"spending\" + 0.010*\"years\" + 0.010*\"federal\" + 0.008*\"congress\"'),\n",
       " (7,\n",
       "  '0.031*\"nuclear\" + 0.025*\"soviet\" + 0.017*\"weapons\" + 0.013*\"world\" + 0.013*\"nations\" + 0.013*\"security\" + 0.012*\"war\" + 0.011*\"agreement\" + 0.010*\"china\" + 0.010*\"strategic\"'),\n",
       " (8,\n",
       "  '0.021*\"crime\" + 0.015*\"years\" + 0.009*\"house\" + 0.008*\"police\" + 0.007*\"rate\" + 0.007*\"city\" + 0.007*\"year\" + 0.007*\"percent\" + 0.006*\"lowest\" + 0.006*\"women\"'),\n",
       " (9,\n",
       "  '0.023*\"america\" + 0.019*\"people\" + 0.018*\"world\" + 0.012*\"american\" + 0.010*\"years\" + 0.009*\"tonight\" + 0.008*\"nation\" + 0.008*\"country\" + 0.008*\"time\" + 0.008*\"let\"')]"
      ]
     },
     "execution_count": 57,
     "metadata": {},
     "output_type": "execute_result"
    }
   ],
   "source": [
    "model_80.print_topics()"
   ]
  },
  {
   "cell_type": "markdown",
   "metadata": {},
   "source": [
    "*With 80 passes we some topics come out very clearly - gun ownership policy, Economic & Trade policies, Healthcare, Schools & Education, Foreign policy wrt China & Russia, Crime & Women Safety.*\n",
    "\n",
    "**Overall Summary of findings: As we saw in the elbow shaped plot, convergence is seen after 10 passes, so we keep seeing improvement in topic coherence as we choose higher number of passes. But since the exercise is subjective interpretation, out choice should be motivated by keeping in mind computational complexity and also diminishing coherence benefit with increasing passes. We think, the optimal choice would be to use 40 passes.**"
   ]
  },
  {
   "cell_type": "markdown",
   "metadata": {},
   "source": [
    "## Reflection questions"
   ]
  },
  {
   "cell_type": "markdown",
   "metadata": {},
   "source": [
    "The following reflection questions will help you prepare for the diagnostic test. Answer each of them in the form of a short text and put your answers in the cell below. You will get feedback on your answers from your lab assistant."
   ]
  },
  {
   "cell_type": "markdown",
   "metadata": {},
   "source": [
    "**RQ 3.1:** Based on your experiments in Problem&nbsp;2 and Problem&nbsp;3, what is the relation between the quality of a clustering and the number of clusters? What happens when the number of clusters is too low, or too high? For this particular data set, what would a &lsquo;good&rsquo; number of clusters be?\n",
    "\n",
    "*From the RI values we computed for k = 1,3,5 and 7, we saw the quality of clustering went up each time. But since, with this limited test we did not check if, at current or higher k values, the RI plateau or peak, so, based on what we found with the given experiment design, we can expect better clustering performance with higher values of k. To tune the 'k' hyperparameter, we would need to plot the inertia for each subsequent clustering and find the 'elbow' in the  inertia plot. Considering, that the full data contains 6 categories (which served as gold standard labels for evaluation), intuitively, 6 clusters is what we would expect. But we have to keep in mind the limitations of the KMeans clustering i.e. KMeans finds clusters with convex shapes and it doesn't handle outliers well. Its merely conjecture on our part, but reviews on books and dvds can utilize a lot of common words and thus be act as outliers for each others clusters and pull the centroids of each cluster towards them. This can be a reason why the qualit of clusters for this dataset maybe limited using KMeans.*\n",
    "\n",
    "**RQ 3.2:** Explain why it is important to monitor an LDA model for convergence and not simply use, say, 1000&nbsp;passes. How is the log likelihood used in this context? Were the topics from the multi-pass model &lsquo;better&rsquo; than the topics from the 1-pass model?\n",
    "\n",
    "*We reasoned this earlier in the report as well, but to recap, since we see convergence after a certain number of passes, the plot suggests we can keep improving our topic quality results with higher passes, but this obviously comes at a higher training cost and we also saw diminishing returns on quality of topics with increasing number of passes. The log-likelihood is the marginal probability $p(word|topic)$ drawn from the unigram model. With each pass, as with weights propagating through hidden layers in a neural network, we expect convergence. Hence, here we use the log-likelihood values to determine where convergence takes place and expect the number of topics in our data. The topics discovered during the experiments were explained earlier.*\n",
    "\n",
    "**RQ 3.3:** What are the differences between $k$-means and LDA? When would you use one, when the other?\n",
    "\n",
    "*The difference between k-means and LDA is their clustering type. k-means is a hard clustering technique while LDA is a soft clustering approach. The clearest way to understand how they differ from each other is how they group documents. k-means will assign each document to a particular cluster while LDA would assign a document to multiple topics or a mixture of topics. k-means is more suitable as an exploratory tool to understand the data better and how its distributed. To get a sense of context and structure within the text data we should use LDA which lets us find more realistic and contextual results in topic identification. In other words, use k-means when the objective is to find high level grouping and pre-processing; use LDA when the objective is gain knowledge of context in text data.*"
   ]
  },
  {
   "cell_type": "code",
   "execution_count": 61,
   "metadata": {},
   "outputs": [
    {
     "data": {
      "text/plain": [
       "camera      99\n",
       "music       83\n",
       "software    82\n",
       "dvd         80\n",
       "books       78\n",
       "health      78\n",
       "Name: category, dtype: int64"
      ]
     },
     "execution_count": 61,
     "metadata": {},
     "output_type": "execute_result"
    }
   ],
   "source": [
    "pd.value_counts(eval_data['category'])"
   ]
  },
  {
   "cell_type": "markdown",
   "metadata": {},
   "source": [
    "*TODO: Enter your answers here*"
   ]
  },
  {
   "cell_type": "markdown",
   "metadata": {},
   "source": [
    "**Congratulations on finishing L3! 👍**"
   ]
  }
 ],
 "metadata": {
  "kernelspec": {
   "display_name": "Python 3 (ipykernel)",
   "language": "python",
   "name": "python3"
  },
  "language_info": {
   "codemirror_mode": {
    "name": "ipython",
    "version": 3
   },
   "file_extension": ".py",
   "mimetype": "text/x-python",
   "name": "python",
   "nbconvert_exporter": "python",
   "pygments_lexer": "ipython3",
   "version": "3.9.7"
  }
 },
 "nbformat": 4,
 "nbformat_minor": 2
}
