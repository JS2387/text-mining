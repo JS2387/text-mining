{
 "cells": [
  {
   "cell_type": "markdown",
   "metadata": {},
   "source": [
    "# L2: Text classification"
   ]
  },
  {
   "cell_type": "markdown",
   "metadata": {},
   "source": [
    "Text classification is the task of sorting text documents into predefined classes. The concrete problem you will be working on in this lab is the classification of texts with respect to their political affiliation. The specific texts you are going to classify are speeches held in the [Riksdag](https://www.riksdagen.se/en/), the Swedish national legislature."
   ]
  },
  {
   "cell_type": "markdown",
   "metadata": {},
   "source": [
    "**Before starting with this lab, here is a quick reminder about our [Rules for hand-in assignments](https://www.ida.liu.se/~TDDE16/exam.en.shtml#handins) and the [Policy on cheating and plagiarism](https://www.ida.liu.se/~TDDE16/exam.en.shtml#cheating).**"
   ]
  },
  {
   "cell_type": "markdown",
   "metadata": {},
   "source": [
    "## Data set"
   ]
  },
  {
   "cell_type": "markdown",
   "metadata": {},
   "source": [
    "The raw data for this lab comes from [The Riksdag’s Open Data](https://data.riksdagen.se/in-english/). We have tokenized the speeches and put them into two compressed [JSON](https://en.wikipedia.org/wiki/JSON) files:\n",
    "\n",
    "* `speeches-201718.json.bz2` (speeches from the 2017/2018 parliamentary session)\n",
    "* `speeches-201819.json.bz2` (ditto, from the 2018/2019 session)\n",
    "\n",
    "We start by loading these files into two separate data frames."
   ]
  },
  {
   "cell_type": "code",
   "execution_count": 1,
   "metadata": {},
   "outputs": [],
   "source": [
    "import pandas as pd\n",
    "import bz2\n",
    "\n",
    "with bz2.open('speeches-201718.json.bz2') as source:\n",
    "    speeches_201718 = pd.read_json(source)\n",
    "\n",
    "with bz2.open('speeches-201819.json.bz2') as source:\n",
    "    speeches_201819 = pd.read_json(source)"
   ]
  },
  {
   "cell_type": "markdown",
   "metadata": {},
   "source": [
    "When you inspect the two data frames, you can see that there are three labelled columns: `id` (the official speech ID), `words` (the space-separated words of the speech), and `party` (the party of the speaker, represented by its customary abbreviation)."
   ]
  },
  {
   "cell_type": "code",
   "execution_count": 2,
   "metadata": {},
   "outputs": [
    {
     "data": {
      "text/html": [
       "<div>\n",
       "<style scoped>\n",
       "    .dataframe tbody tr th:only-of-type {\n",
       "        vertical-align: middle;\n",
       "    }\n",
       "\n",
       "    .dataframe tbody tr th {\n",
       "        vertical-align: top;\n",
       "    }\n",
       "\n",
       "    .dataframe thead th {\n",
       "        text-align: right;\n",
       "    }\n",
       "</style>\n",
       "<table border=\"1\" class=\"dataframe\">\n",
       "  <thead>\n",
       "    <tr style=\"text-align: right;\">\n",
       "      <th></th>\n",
       "      <th>id</th>\n",
       "      <th>words</th>\n",
       "      <th>party</th>\n",
       "    </tr>\n",
       "  </thead>\n",
       "  <tbody>\n",
       "    <tr>\n",
       "      <th>0</th>\n",
       "      <td>H5-002-004</td>\n",
       "      <td>eders majestäter eders kungliga högheter herr ...</td>\n",
       "      <td>S</td>\n",
       "    </tr>\n",
       "    <tr>\n",
       "      <th>1</th>\n",
       "      <td>H5-003-001</td>\n",
       "      <td>aktuell debatt om situationen för ensamkommand...</td>\n",
       "      <td>V</td>\n",
       "    </tr>\n",
       "    <tr>\n",
       "      <th>2</th>\n",
       "      <td>H5-003-002</td>\n",
       "      <td>herr talman och ledamöter jag vill börja med a...</td>\n",
       "      <td>S</td>\n",
       "    </tr>\n",
       "    <tr>\n",
       "      <th>3</th>\n",
       "      <td>H5-003-003</td>\n",
       "      <td>herr talman åhörare den här debatten handlar a...</td>\n",
       "      <td>M</td>\n",
       "    </tr>\n",
       "    <tr>\n",
       "      <th>4</th>\n",
       "      <td>H5-003-004</td>\n",
       "      <td>herr talman ansvar och rättssäkerhet är två or...</td>\n",
       "      <td>SD</td>\n",
       "    </tr>\n",
       "  </tbody>\n",
       "</table>\n",
       "</div>"
      ],
      "text/plain": [
       "           id                                              words party\n",
       "0  H5-002-004  eders majestäter eders kungliga högheter herr ...     S\n",
       "1  H5-003-001  aktuell debatt om situationen för ensamkommand...     V\n",
       "2  H5-003-002  herr talman och ledamöter jag vill börja med a...     S\n",
       "3  H5-003-003  herr talman åhörare den här debatten handlar a...     M\n",
       "4  H5-003-004  herr talman ansvar och rättssäkerhet är två or...    SD"
      ]
     },
     "execution_count": 2,
     "metadata": {},
     "output_type": "execute_result"
    }
   ],
   "source": [
    "speeches_201718.head()"
   ]
  },
  {
   "cell_type": "markdown",
   "metadata": {},
   "source": [
    "Throughout the lab, we will be using the speeches from 2017/2018 as our training data, and the speeches from 2018/2019 as our test data."
   ]
  },
  {
   "cell_type": "code",
   "execution_count": 3,
   "metadata": {},
   "outputs": [],
   "source": [
    "training_data, test_data = speeches_201718, speeches_201819"
   ]
  },
  {
   "cell_type": "markdown",
   "metadata": {},
   "source": [
    "For later reference, we store the sorted list of party abbreviations."
   ]
  },
  {
   "cell_type": "code",
   "execution_count": 4,
   "metadata": {},
   "outputs": [
    {
     "name": "stdout",
     "output_type": "stream",
     "text": [
      "['C', 'KD', 'L', 'M', 'MP', 'S', 'SD', 'V']\n"
     ]
    }
   ],
   "source": [
    "parties = sorted(training_data['party'].unique())\n",
    "print(parties)"
   ]
  },
  {
   "cell_type": "markdown",
   "metadata": {},
   "source": [
    "## Problem 1: Visualization"
   ]
  },
  {
   "cell_type": "markdown",
   "metadata": {},
   "source": [
    "Your first task is to get to know the data better by producing a simple visualization.\n",
    "\n",
    "If you are not familiar with the Swedish political system and the parties represented in the Riksdag in particular, then we suggest that you have a look at the Wikipedia article about the [2018 Swedish general election](https://en.wikipedia.org/wiki/2018_Swedish_general_election).\n",
    "\n",
    "For the lab, we ask you to compare the two data frames with respect to the distribution of the speeches over the different parties. Write code to generate two bar plots that visualize this information, one for the 2017/2018 speeches and one for the 2018/2019 speeches. Inspect the two plots, and compare them\n",
    "\n",
    "* to each other\n",
    "* to the results of the 2014 and the 2018 general elections\n",
    "\n",
    "Summarize your observations in a short text in the cell below.\n",
    "\n",
    "**Tip:** If you need help with creating bar plots, [Bar Plot using Pandas](https://dfrieds.com/data-visualizations/bar-plot-python-pandas) provides a useful tutorial."
   ]
  },
  {
   "cell_type": "code",
   "execution_count": 5,
   "metadata": {},
   "outputs": [
    {
     "data": {
      "text/plain": [
       "party\n",
       "C      865\n",
       "KD     743\n",
       "L      719\n",
       "M     2370\n",
       "MP    1481\n",
       "S     4261\n",
       "SD    1010\n",
       "V      894\n",
       "dtype: int64"
      ]
     },
     "execution_count": 5,
     "metadata": {},
     "output_type": "execute_result"
    }
   ],
   "source": [
    "training_data.groupby('party').size()"
   ]
  },
  {
   "cell_type": "code",
   "execution_count": 6,
   "metadata": {},
   "outputs": [
    {
     "data": {
      "text/plain": [
       "party\n",
       "C      671\n",
       "KD     821\n",
       "L      560\n",
       "M     1644\n",
       "MP     809\n",
       "S     2773\n",
       "SD    1060\n",
       "V      950\n",
       "dtype: int64"
      ]
     },
     "execution_count": 6,
     "metadata": {},
     "output_type": "execute_result"
    }
   ],
   "source": [
    "test_data.groupby('party').size()"
   ]
  },
  {
   "cell_type": "code",
   "execution_count": 7,
   "metadata": {},
   "outputs": [
    {
     "data": {
      "text/plain": [
       "[Text(0.5, 1.0, 'Speeches in 2018-19')]"
      ]
     },
     "execution_count": 7,
     "metadata": {},
     "output_type": "execute_result"
    },
    {
     "data": {
      "image/png": "[encoded data removed]",
      "text/plain": [
       "<Figure size 432x288 with 2 Axes>"
      ]
     },
     "metadata": {
      "needs_background": "light"
     },
     "output_type": "display_data"
    }
   ],
   "source": [
    "import matplotlib.pyplot as plt\n",
    "\n",
    "fig, ax = plt.subplots(1,2)\n",
    "training_data.groupby('party').size().plot(ax = ax[0], subplots = True, kind = 'bar')\n",
    "ax[0].set(title = \"Speeches in 2017-18\")\n",
    "\n",
    "test_data.groupby('party').size().plot(ax = ax[1], subplots = True, kind = 'bar')\n",
    "ax[1].set(title = \"Speeches in 2018-19\")"
   ]
  },
  {
   "cell_type": "markdown",
   "metadata": {},
   "source": [
    "*After observing both the bar plots, we see that party S(Socialdemokraterna) has most number of speeches during both periods, while the party L(Liberalerna) has the least during both the periods. The party M(Moderaterna) secures the second spot in both the periods in terms of count of speeches. However, other parties shuffle their positions but seem to have around 1000 speeches in both the periods. The number of speeches is dominated by the 2 parties that held the most number of seats in the riksdag. The total number of speeches given was lower in the following period for all except Cristian Democrats, Left party and Sweden Democrats. These are also the parties that gained seats in 2018 vs 2014. The biggest fall in seats due to election results was for the 2 biggest parties i.e. Swedish Social Democratic Party and the Moderate party. These 2 parties also have the highest frequency of speeches given in the training and test data.*"
   ]
  },
  {
   "cell_type": "markdown",
   "metadata": {},
   "source": [
    "## Problem 2: Naive Bayes classifier"
   ]
  },
  {
   "cell_type": "markdown",
   "metadata": {},
   "source": [
    "You are now ready to train and evaluate a classifier. More specifically, we ask you to train a [Multinomial Naive Bayes](https://scikit-learn.org/stable/modules/naive_bayes.html#multinomial-naive-bayes) classifier. You will have to\n",
    "\n",
    "1. vectorize the speeches in the training data\n",
    "2. instantiate and fit the Naive Bayes model\n",
    "3. evaluate the model on the test data\n",
    "\n",
    "The scikit-learn library provides a convenience class [Pipeline](https://scikit-learn.org/stable/modules/generated/sklearn.pipeline.Pipeline.html) that allows you to solve the first two tasks with very compact code. For the evaluation you can use the function [`classification_report`](https://scikit-learn.org/stable/modules/generated/sklearn.metrics.classification_report.html), which will report per-class precision, recall and F1, as well as overall accuracy."
   ]
  },
  {
   "cell_type": "code",
   "execution_count": 8,
   "metadata": {},
   "outputs": [],
   "source": [
    "# TODO: Write code here to train and evaluate a Multinomial Naive Bayes classifier\n",
    "\n",
    "from sklearn.naive_bayes import MultinomialNB\n",
    "from sklearn.feature_extraction.text import CountVectorizer\n",
    "from sklearn.pipeline import Pipeline\n",
    "from sklearn.metrics import classification_report\n",
    "\n",
    "pipe = Pipeline([\n",
    "    ('vector', CountVectorizer()),\n",
    "    ('classifier', MultinomialNB()),])\n",
    "\n",
    "classifier1 = pipe.fit(training_data['words'], training_data['party'])\n"
   ]
  },
  {
   "cell_type": "code",
   "execution_count": 9,
   "metadata": {},
   "outputs": [],
   "source": [
    "predictions1 = classifier1.predict(test_data['words'])"
   ]
  },
  {
   "cell_type": "code",
   "execution_count": 10,
   "metadata": {},
   "outputs": [
    {
     "name": "stdout",
     "output_type": "stream",
     "text": [
      "              precision    recall  f1-score   support\n",
      "\n",
      "           C       0.63      0.04      0.07       671\n",
      "          KD       0.70      0.02      0.03       821\n",
      "           L       0.92      0.02      0.04       560\n",
      "           M       0.36      0.68      0.47      1644\n",
      "          MP       0.36      0.25      0.29       809\n",
      "           S       0.46      0.84      0.59      2773\n",
      "          SD       0.57      0.12      0.20      1060\n",
      "           V       0.59      0.15      0.24       950\n",
      "\n",
      "    accuracy                           0.43      9288\n",
      "   macro avg       0.57      0.26      0.24      9288\n",
      "weighted avg       0.52      0.43      0.34      9288\n",
      "\n"
     ]
    }
   ],
   "source": [
    "print(classification_report(test_data['party'], predictions1))"
   ]
  },
  {
   "cell_type": "markdown",
   "metadata": {},
   "source": [
    "Would you have expected the results that you got?\n",
    "\n",
    "*The accuracy of the Naive Bayes model is 43%. Falling back to oiur earlier observation about the data set in general, we saw that the number of speeches made are dominated by 2 class labels i.e. 2 parties S & M. Since the dataset is skewed, the model classifier scores low in precision for the 2 skewed classes. When you factor in the result that the 3 of smallest classes i.e. C, KD & L, all score very low in recall, alongwith the support for each predicted class, we can get a sense of what is happening. The classifier is frequently predicting the 2 most frequent classes which is giving us a skewed classifier. As a result, we should look at the F1 score which is 24% for this model.*"
   ]
  },
  {
   "cell_type": "markdown",
   "metadata": {},
   "source": [
    "## Problem 3: Baselines"
   ]
  },
  {
   "cell_type": "markdown",
   "metadata": {},
   "source": [
    "Evaluation metrics such as accuracy should not be understood as absolute measures of performance, but should be used only to compare different classifiers. When other classifiers are not available, a simple baseline is a classifier that generates predictions by random sampling, respecting the training set&rsquo;s class distribution. This baseline is implemented by the class [DummyClassifier](https://scikit-learn.org/stable/modules/generated/sklearn.dummy.DummyClassifier.html). What is the performance of the random baseline on the test data?"
   ]
  },
  {
   "cell_type": "code",
   "execution_count": 11,
   "metadata": {},
   "outputs": [
    {
     "name": "stdout",
     "output_type": "stream",
     "text": [
      "Rand Sampling Dummy Classifier accuracy on test data: 0.17506459948320413\n"
     ]
    }
   ],
   "source": [
    "# TODO: Write code here to evaluate the random baseline\n",
    "from sklearn.dummy import DummyClassifier\n",
    "\n",
    "DC = DummyClassifier(strategy = 'stratified') \n",
    "# stratified method randomly samples one-hot vectors from a multinomial distribution parametrized by the empirical class prior probabilities\n",
    "\n",
    "DC.fit(training_data['words'], training_data['party'])\n",
    "\n",
    "DC.predict(test_data['words'])\n",
    "\n",
    "print(\"Rand Sampling Dummy Classifier accuracy on test data:\", DC.score(test_data['words'], test_data['party']))"
   ]
  },
  {
   "cell_type": "markdown",
   "metadata": {},
   "source": [
    "An even dumber baseline is to predict, for every document, that class which appears most often in the training data. This baseline is also called the most frequent class baseline. What is the accuracy of that baseline on the test data?"
   ]
  },
  {
   "cell_type": "code",
   "execution_count": 12,
   "metadata": {},
   "outputs": [
    {
     "name": "stdout",
     "output_type": "stream",
     "text": [
      "MFreq Dummy Classifier accuracy on test data: 0.298557278208441\n"
     ]
    }
   ],
   "source": [
    "# TODO: Write code here to print the accuracy of the most frequent class baseline\n",
    "\n",
    "DC = DummyClassifier(strategy = 'most_frequent') \n",
    "# most_frequent method always returns the most frequent class label in the observed y argument passed to fit\n",
    "DC.fit(training_data['words'], training_data['party'])\n",
    "\n",
    "DC.predict(test_data['words'])\n",
    "\n",
    "print(\"MFreq Dummy Classifier accuracy on test data:\", DC.score(test_data['words'], test_data['party']))"
   ]
  },
  {
   "cell_type": "markdown",
   "metadata": {},
   "source": [
    "## Problem 4: Creating a balanced data set"
   ]
  },
  {
   "cell_type": "markdown",
   "metadata": {},
   "source": [
    "As you saw in Problem&nbsp;1, the distribution of the speeches over the eight different parties (classes) is imbalanced. One technique used to alleviate this is **undersampling**, in which one randomly removes samples from over-represented classes until all classes are represented with the same number of samples.\n",
    "\n",
    "Implement undersampling to create a balanced subset of the training data. Rerun the evaluation from Problem&nbsp;2 on the balanced data and compare the results. Summarise your results in a short text.\n",
    "\n",
    "**Hint:** Your balanced subset should consist of 5,752 speeches."
   ]
  },
  {
   "cell_type": "code",
   "execution_count": 13,
   "metadata": {},
   "outputs": [],
   "source": [
    "# TODO: Write code here to implement undersampling\n",
    "min_samples = min(training_data.groupby('party').size())\n",
    "new_training_data = pd.DataFrame()\n",
    "\n",
    "for i in parties:\n",
    "    df_party = training_data[training_data.party == i]\n",
    "    df_party = df_party.sample(min_samples)\n",
    "    new_training_data = new_training_data.append(df_party)"
   ]
  },
  {
   "cell_type": "code",
   "execution_count": 14,
   "metadata": {},
   "outputs": [
    {
     "data": {
      "text/html": [
       "<div>\n",
       "<style scoped>\n",
       "    .dataframe tbody tr th:only-of-type {\n",
       "        vertical-align: middle;\n",
       "    }\n",
       "\n",
       "    .dataframe tbody tr th {\n",
       "        vertical-align: top;\n",
       "    }\n",
       "\n",
       "    .dataframe thead th {\n",
       "        text-align: right;\n",
       "    }\n",
       "</style>\n",
       "<table border=\"1\" class=\"dataframe\">\n",
       "  <thead>\n",
       "    <tr style=\"text-align: right;\">\n",
       "      <th></th>\n",
       "      <th>id</th>\n",
       "      <th>words</th>\n",
       "      <th>party</th>\n",
       "    </tr>\n",
       "  </thead>\n",
       "  <tbody>\n",
       "    <tr>\n",
       "      <th>0</th>\n",
       "      <td>H5-096-014</td>\n",
       "      <td>fru talman natomedlemskap är naturligtvis inte...</td>\n",
       "      <td>C</td>\n",
       "    </tr>\n",
       "    <tr>\n",
       "      <th>1</th>\n",
       "      <td>H5-050-026</td>\n",
       "      <td>fru talman det lackar mot jul jag tror att vi ...</td>\n",
       "      <td>C</td>\n",
       "    </tr>\n",
       "    <tr>\n",
       "      <th>2</th>\n",
       "      <td>H5-008-007</td>\n",
       "      <td>herr talman under minst fyra riksdagsår har ja...</td>\n",
       "      <td>C</td>\n",
       "    </tr>\n",
       "    <tr>\n",
       "      <th>3</th>\n",
       "      <td>H5-031-081</td>\n",
       "      <td>fru talman de nationella proven tror jag föder...</td>\n",
       "      <td>C</td>\n",
       "    </tr>\n",
       "    <tr>\n",
       "      <th>4</th>\n",
       "      <td>H5-056-018</td>\n",
       "      <td>herr talman jag hoppas att statsministern känn...</td>\n",
       "      <td>C</td>\n",
       "    </tr>\n",
       "    <tr>\n",
       "      <th>...</th>\n",
       "      <td>...</td>\n",
       "      <td>...</td>\n",
       "      <td>...</td>\n",
       "    </tr>\n",
       "    <tr>\n",
       "      <th>5747</th>\n",
       "      <td>H5-125-031</td>\n",
       "      <td>herr talman jag yrkar också bifall till reserv...</td>\n",
       "      <td>V</td>\n",
       "    </tr>\n",
       "    <tr>\n",
       "      <th>5748</th>\n",
       "      <td>H5-007-074</td>\n",
       "      <td>herr talman i danderyds nyheter kan vi läsa om...</td>\n",
       "      <td>V</td>\n",
       "    </tr>\n",
       "    <tr>\n",
       "      <th>5749</th>\n",
       "      <td>H5-136-042</td>\n",
       "      <td>herr talman när beslutet om att inleda vinstex...</td>\n",
       "      <td>V</td>\n",
       "    </tr>\n",
       "    <tr>\n",
       "      <th>5750</th>\n",
       "      <td>H5-015-050</td>\n",
       "      <td>herr talman det finns en tydlig orsak till att...</td>\n",
       "      <td>V</td>\n",
       "    </tr>\n",
       "    <tr>\n",
       "      <th>5751</th>\n",
       "      <td>H5-104-072</td>\n",
       "      <td>fru talman var och en av oss producerar ett ha...</td>\n",
       "      <td>V</td>\n",
       "    </tr>\n",
       "  </tbody>\n",
       "</table>\n",
       "<p>5752 rows × 3 columns</p>\n",
       "</div>"
      ],
      "text/plain": [
       "              id                                              words party\n",
       "0     H5-096-014  fru talman natomedlemskap är naturligtvis inte...     C\n",
       "1     H5-050-026  fru talman det lackar mot jul jag tror att vi ...     C\n",
       "2     H5-008-007  herr talman under minst fyra riksdagsår har ja...     C\n",
       "3     H5-031-081  fru talman de nationella proven tror jag föder...     C\n",
       "4     H5-056-018  herr talman jag hoppas att statsministern känn...     C\n",
       "...          ...                                                ...   ...\n",
       "5747  H5-125-031  herr talman jag yrkar också bifall till reserv...     V\n",
       "5748  H5-007-074  herr talman i danderyds nyheter kan vi läsa om...     V\n",
       "5749  H5-136-042  herr talman när beslutet om att inleda vinstex...     V\n",
       "5750  H5-015-050  herr talman det finns en tydlig orsak till att...     V\n",
       "5751  H5-104-072  fru talman var och en av oss producerar ett ha...     V\n",
       "\n",
       "[5752 rows x 3 columns]"
      ]
     },
     "execution_count": 14,
     "metadata": {},
     "output_type": "execute_result"
    }
   ],
   "source": [
    "new_training_data = new_training_data.reset_index(drop = True)\n",
    "new_training_data"
   ]
  },
  {
   "cell_type": "code",
   "execution_count": 15,
   "metadata": {},
   "outputs": [
    {
     "data": {
      "text/plain": [
       "party\n",
       "C     719\n",
       "KD    719\n",
       "L     719\n",
       "M     719\n",
       "MP    719\n",
       "S     719\n",
       "SD    719\n",
       "V     719\n",
       "dtype: int64"
      ]
     },
     "execution_count": 15,
     "metadata": {},
     "output_type": "execute_result"
    }
   ],
   "source": [
    "new_training_data.groupby('party').size()"
   ]
  },
  {
   "cell_type": "code",
   "execution_count": 16,
   "metadata": {},
   "outputs": [
    {
     "name": "stdout",
     "output_type": "stream",
     "text": [
      "              precision    recall  f1-score   support\n",
      "\n",
      "           C       0.27      0.44      0.34       671\n",
      "          KD       0.28      0.39      0.33       821\n",
      "           L       0.26      0.46      0.33       560\n",
      "           M       0.40      0.49      0.44      1644\n",
      "          MP       0.36      0.37      0.37       809\n",
      "           S       0.81      0.30      0.44      2773\n",
      "          SD       0.46      0.40      0.43      1060\n",
      "           V       0.40      0.55      0.46       950\n",
      "\n",
      "    accuracy                           0.40      9288\n",
      "   macro avg       0.41      0.43      0.39      9288\n",
      "weighted avg       0.50      0.40      0.41      9288\n",
      "\n"
     ]
    }
   ],
   "source": [
    "classifier2 = pipe.fit(new_training_data['words'], new_training_data['party'])\n",
    "predictions2 = classifier2.predict(test_data['words'])\n",
    "print(classification_report(test_data['party'], predictions2))"
   ]
  },
  {
   "cell_type": "markdown",
   "metadata": {},
   "source": [
    "*The overall accuracy drops for the latest classifier trained using the balanced dataset. This is to be expected since, the earlier higher accuracy was due to the 2 largest classes getting more true-positives because the earlier classifier was predicting the skewed classes. This classifier gives a more balanced result, as the false negatives of each of the classes is more balanced, the recall score is more balanced for each class. Although, now the precision for the unbalanced class in the test set (i.e. S) is higher because its frequency is still skewed and hence, false-positives are lower. Overall, this is still a better classifier even with lower accuracy, since the harmonic mean is balancing between recall and precision for most classes. Also, sticking to our previous conclusion to look at the F1 score, we see a significant improvement up to 39% which supports our conclusion that this trained classifier is a big improvement.*"
   ]
  },
  {
   "cell_type": "markdown",
   "metadata": {},
   "source": [
    "## Problem 5: Confusion matrix"
   ]
  },
  {
   "cell_type": "markdown",
   "metadata": {},
   "source": [
    "A **confusion matrix** is a specific table that is useful when analysing the performance of a classifier. In this table, both the rows and the columns correspond to classes, and each cell $(i, j)$ states how many times a sample with gold-standard class $i$ was predicted as belonging to class $j$.\n",
    "\n",
    "In scitkit-learn, the confusion matrix of a classifier is computed by the function [`confusion_matrix`](https://scikit-learn.org/stable/modules/generated/sklearn.metrics.confusion_matrix.html). If you would rather see a visual representation, you can also use [`plot_confusion_matrix`](https://scikit-learn.org/stable/modules/generated/sklearn.metrics.plot_confusion_matrix.html).\n",
    "\n",
    "Your task is to use the confusion matrix in order to find, for each given party $p$ in the Riksdag, that other party $p'$ which the classifier that you trained in Problem&nbsp;4 most often confuses with $p$ when it predicts the party of a speaker."
   ]
  },
  {
   "cell_type": "code",
   "execution_count": 17,
   "metadata": {},
   "outputs": [
    {
     "data": {
      "text/plain": [
       "<sklearn.metrics._plot.confusion_matrix.ConfusionMatrixDisplay at 0x28d3c075760>"
      ]
     },
     "execution_count": 17,
     "metadata": {},
     "output_type": "execute_result"
    },
    {
     "data": {
      "image/png": "[encoded data removed]",
      "text/plain": [
       "<Figure size 432x288 with 2 Axes>"
      ]
     },
     "metadata": {
      "needs_background": "light"
     },
     "output_type": "display_data"
    }
   ],
   "source": [
    "# TODO: Write code here to solve Problem 5\n",
    "from sklearn.metrics import confusion_matrix, plot_confusion_matrix\n",
    "\n",
    "plot_confusion_matrix(classifier2, test_data['words'], test_data['party'])\n",
    "\n",
    "#print(confusion_matrix(test_data['party'], predictions2,  labels = parties))"
   ]
  },
  {
   "cell_type": "markdown",
   "metadata": {},
   "source": [
    "Take a minute to reflect on whether your results make sense.\n",
    "\n",
    "*While precision for S is pretty high, this skewed frequency results is a naturally high false negative rate. In case of M, which is the 2nd largest skew in the test set, we see that a lot of S labels have been misclassified as M. For the smallest classes C, LD & L, all of them are getting misclassified as M. And vice versa, the top 3 misclassifications for M labels are that of C, KD and L. The correlation between these parties makes sense since, 3 of them except KD have liberal views and KD has been known to hold support opposing ideologies. So the classifier maybe picking commonalities in their speeches. The other strong correlation we can see is between S, V and MP. This also makes sense considering the common ideology around socialism for the 3 parties. For SD, we see that a lot of misclassification is with liberals and moderates followed by left. which again hints to common themes in speeches even if the sentiment maybe opposite.*"
   ]
  },
  {
   "cell_type": "markdown",
   "metadata": {},
   "source": [
    "## Problem 6: Grid search"
   ]
  },
  {
   "cell_type": "markdown",
   "metadata": {},
   "source": [
    "Until now, you have been using the vectorizer and the Naive Bayes classifier with their default hyperparameters. When working with real-world applications, you would want to find settings for the hyperparameters that maximize the performance for the task at hand.\n",
    "\n",
    "Manually tweaking the hyperparameters of the various components of a vectorizer–classifier pipeline can be cumbersome. However, scikit-learn makes it possible to run an exhaustive search for the best hyperparameters over a grid of possible values. This method is known as **grid search**.\n",
    "\n",
    "The hyperparameters of a pipeline should never be tuned on the final test set. Instead, one should either use a separate validation set, or run cross-validation over different folds. Here we will use cross-validation.\n",
    "\n",
    "Implement a grid search with 5-fold cross-validation to find the optimal parameters in a grid defined by the following choices for the hyperparameters:\n",
    "\n",
    "* In the vectorizer, try a set-of-words (binary) model in addition to the default bag-of-words model (two possible parameter values).\n",
    "* Also in the vectorizer, try extracting bigrams in addition to unigrams (two possible parameter values).\n",
    "* In the Naive Bayes classifier, try using additive smoothing with $\\alpha \\in \\{1, 0{.}1\\}$ (two possible parameter values).\n",
    "\n",
    "Use the class [GridSearchCV](https://scikit-learn.org/stable/modules/generated/sklearn.model_selection.GridSearchCV.html) from the scikit-learn library. Print the results of your best model, along with the parameter values that yielded these results."
   ]
  },
  {
   "cell_type": "code",
   "execution_count": 18,
   "metadata": {},
   "outputs": [],
   "source": [
    "# TODO: Write code here to implement the grid search\n",
    "from sklearn.model_selection import GridSearchCV\n",
    "\n",
    "parameters = [{'vector__binary':(True, False),\n",
    "              'vector__ngram_range':((1,1),(2,2)),\n",
    "              'classifier__alpha':(1,0.1)}]\n",
    "\n",
    "GSCV = GridSearchCV(pipe, parameters, n_jobs = -1)\n",
    "classifier3 = GSCV.fit(training_data['words'], training_data['party'])\n",
    "prediction3 = classifier3.predict(test_data['words'])"
   ]
  },
  {
   "cell_type": "code",
   "execution_count": 19,
   "metadata": {},
   "outputs": [
    {
     "data": {
      "text/plain": [
       "{'classifier__alpha': 0.1,\n",
       " 'vector__binary': False,\n",
       " 'vector__ngram_range': (1, 1)}"
      ]
     },
     "execution_count": 19,
     "metadata": {},
     "output_type": "execute_result"
    }
   ],
   "source": [
    "classifier3.best_params_"
   ]
  },
  {
   "cell_type": "code",
   "execution_count": 20,
   "metadata": {},
   "outputs": [
    {
     "name": "stdout",
     "output_type": "stream",
     "text": [
      "              precision    recall  f1-score   support\n",
      "\n",
      "           C       0.39      0.27      0.32       671\n",
      "          KD       0.45      0.24      0.31       821\n",
      "           L       0.37      0.26      0.30       560\n",
      "           M       0.44      0.58      0.50      1644\n",
      "          MP       0.32      0.46      0.38       809\n",
      "           S       0.61      0.65      0.63      2773\n",
      "          SD       0.49      0.43      0.45      1060\n",
      "           V       0.50      0.42      0.46       950\n",
      "\n",
      "    accuracy                           0.48      9288\n",
      "   macro avg       0.45      0.41      0.42      9288\n",
      "weighted avg       0.48      0.48      0.48      9288\n",
      "\n"
     ]
    }
   ],
   "source": [
    "print(classification_report(test_data['party'], prediction3))"
   ]
  },
  {
   "cell_type": "markdown",
   "metadata": {},
   "source": [
    "## Problem 7: Try to improve your results"
   ]
  },
  {
   "cell_type": "markdown",
   "metadata": {},
   "source": [
    "Scikit-learn makes it easy to test different vectorizer–classifier pipelines – among other things, it includes different types of logistic regression classifiers, support vector machines, and decision trees. Browse the library to see which methods are supported.\n",
    "\n",
    "Build a pipeline that you find interesting, and use grid search to find optimal settings for the hyperparameters. Print the results of your best model."
   ]
  },
  {
   "cell_type": "code",
   "execution_count": 21,
   "metadata": {},
   "outputs": [],
   "source": [
    "# TODO: Write code here to search for a better model and print the results\n",
    "\n",
    "from sklearn.feature_extraction.text import TfidfVectorizer\n",
    "from sklearn.linear_model import LogisticRegression"
   ]
  },
  {
   "cell_type": "code",
   "execution_count": 22,
   "metadata": {},
   "outputs": [
    {
     "name": "stdout",
     "output_type": "stream",
     "text": [
      "              precision    recall  f1-score   support\n",
      "\n",
      "           C       0.32      0.46      0.38       671\n",
      "          KD       0.35      0.32      0.33       821\n",
      "           L       0.31      0.42      0.36       560\n",
      "           M       0.55      0.35      0.43      1644\n",
      "          MP       0.28      0.49      0.35       809\n",
      "           S       0.69      0.47      0.56      2773\n",
      "          SD       0.39      0.53      0.45      1060\n",
      "           V       0.46      0.47      0.46       950\n",
      "\n",
      "    accuracy                           0.44      9288\n",
      "   macro avg       0.42      0.44      0.42      9288\n",
      "weighted avg       0.49      0.44      0.45      9288\n",
      "\n"
     ]
    }
   ],
   "source": [
    "pipe2 = Pipeline([\n",
    "    ('vector', TfidfVectorizer()),\n",
    "    ('classifier', LogisticRegression()),])\n",
    "\n",
    "classifier4 = pipe2.fit(new_training_data['words'], new_training_data['party'])\n",
    "predictions4 = classifier4.predict(test_data['words'])\n",
    "print(classification_report(test_data['party'], predictions4))"
   ]
  },
  {
   "cell_type": "markdown",
   "metadata": {},
   "source": [
    "*Slight improvement in model F1 score by using logistic Regression classifier and TfidfVectorizer on balanced dataset, but the improvement could be further enhanced by using CV*"
   ]
  },
  {
   "cell_type": "code",
   "execution_count": 23,
   "metadata": {},
   "outputs": [
    {
     "name": "stdout",
     "output_type": "stream",
     "text": [
      "              precision    recall  f1-score   support\n",
      "\n",
      "           C       0.35      0.46      0.40       671\n",
      "          KD       0.36      0.36      0.36       821\n",
      "           L       0.31      0.46      0.37       560\n",
      "           M       0.54      0.41      0.46      1644\n",
      "          MP       0.28      0.47      0.35       809\n",
      "           S       0.69      0.49      0.57      2773\n",
      "          SD       0.44      0.53      0.48      1060\n",
      "           V       0.50      0.47      0.49       950\n",
      "\n",
      "    accuracy                           0.46      9288\n",
      "   macro avg       0.43      0.46      0.43      9288\n",
      "weighted avg       0.50      0.46      0.47      9288\n",
      "\n"
     ]
    }
   ],
   "source": [
    "from sklearn.linear_model import LogisticRegressionCV\n",
    "\n",
    "pipe3 = Pipeline([\n",
    "    ('vector', TfidfVectorizer()),\n",
    "    ('classifier', LogisticRegressionCV(max_iter = 500)),])\n",
    "\n",
    "classifier5 = pipe3.fit(new_training_data['words'], new_training_data['party'])\n",
    "predictions5 = classifier5.predict(test_data['words'])\n",
    "print(classification_report(test_data['party'], predictions5))"
   ]
  },
  {
   "cell_type": "markdown",
   "metadata": {},
   "source": [
    "*We are able to improve the classifier beyond the results we saw with GridSearchCV*"
   ]
  },
  {
   "cell_type": "code",
   "execution_count": 24,
   "metadata": {},
   "outputs": [
    {
     "name": "stdout",
     "output_type": "stream",
     "text": [
      "              precision    recall  f1-score   support\n",
      "\n",
      "           C       0.31      0.46      0.37       671\n",
      "          KD       0.34      0.29      0.31       821\n",
      "           L       0.32      0.42      0.36       560\n",
      "           M       0.54      0.35      0.43      1644\n",
      "          MP       0.29      0.52      0.37       809\n",
      "           S       0.70      0.46      0.56      2773\n",
      "          SD       0.36      0.55      0.44      1060\n",
      "           V       0.48      0.44      0.46       950\n",
      "\n",
      "    accuracy                           0.44      9288\n",
      "   macro avg       0.42      0.44      0.41      9288\n",
      "weighted avg       0.49      0.44      0.45      9288\n",
      "\n"
     ]
    }
   ],
   "source": [
    "from sklearn.svm import SVC\n",
    "\n",
    "pipe4 = Pipeline([\n",
    "    ('vector', TfidfVectorizer()),\n",
    "    ('classifier', SVC(decision_function_shape = 'ovo')),])\n",
    "\n",
    "classifier6 = pipe4.fit(new_training_data['words'], new_training_data['party'])\n",
    "predictions6 = classifier6.predict(test_data['words'])\n",
    "print(classification_report(test_data['party'], predictions6))"
   ]
  },
  {
   "cell_type": "markdown",
   "metadata": {},
   "source": [
    "*No improvement by using SVC over LogisticRegression classifier.*"
   ]
  },
  {
   "cell_type": "code",
   "execution_count": 25,
   "metadata": {},
   "outputs": [
    {
     "name": "stdout",
     "output_type": "stream",
     "text": [
      "Fitting 5 folds for each of 48 candidates, totalling 240 fits\n",
      "The best score: 0.6603719181054147\n",
      "Parameters of the best model:\n",
      "N-Gram range: (1, 2)\n",
      "Alpha val: 1e-05\n"
     ]
    },
    {
     "ename": "NameError",
     "evalue": "name 'accuracy_score' is not defined",
     "output_type": "error",
     "traceback": [
      "\u001b[1;31m---------------------------------------------------------------------------\u001b[0m",
      "\u001b[1;31mNameError\u001b[0m                                 Traceback (most recent call last)",
      "\u001b[1;32m~\\AppData\\Local\\Temp/ipykernel_5308/1428454604.py\u001b[0m in \u001b[0;36m<module>\u001b[1;34m\u001b[0m\n\u001b[0;32m     27\u001b[0m \u001b[1;33m\u001b[0m\u001b[0m\n\u001b[0;32m     28\u001b[0m \u001b[1;31m# Accuracy\u001b[0m\u001b[1;33m\u001b[0m\u001b[1;33m\u001b[0m\u001b[0m\n\u001b[1;32m---> 29\u001b[1;33m \u001b[0maccuracySGD\u001b[0m \u001b[1;33m=\u001b[0m \u001b[0maccuracy_score\u001b[0m\u001b[1;33m(\u001b[0m\u001b[0mgs_sgd_clf_pred\u001b[0m\u001b[1;33m,\u001b[0m \u001b[0mtest_data\u001b[0m\u001b[1;33m.\u001b[0m\u001b[0mparty\u001b[0m\u001b[1;33m)\u001b[0m\u001b[1;33m\u001b[0m\u001b[1;33m\u001b[0m\u001b[0m\n\u001b[0m\u001b[0;32m     30\u001b[0m \u001b[0mprint\u001b[0m\u001b[1;33m(\u001b[0m\u001b[1;34mf\"Accuracy from Grid Search: {accuracySGD}\"\u001b[0m\u001b[1;33m)\u001b[0m\u001b[1;33m\u001b[0m\u001b[1;33m\u001b[0m\u001b[0m\n\u001b[0;32m     31\u001b[0m \u001b[1;33m\u001b[0m\u001b[0m\n",
      "\u001b[1;31mNameError\u001b[0m: name 'accuracy_score' is not defined"
     ]
    }
   ],
   "source": [
    "#pipeline of feature engineering and model\n",
    "from sklearn.linear_model import SGDClassifier\n",
    "from sklearn.feature_extraction.text import TfidfTransformer\n",
    "\n",
    "sgd_clf = Pipeline([('vect', CountVectorizer()), ('tfidf', TfidfTransformer()), ('clf', SGDClassifier(tol=1e-3))])\n",
    "sgd_parameters_grid = {\n",
    "    'vect__max_df': (0.5, 0.75, 1.0),\n",
    "    'vect__ngram_range': ((1, 1), (1, 2)),  # unigrams or bigrams\n",
    "    'tfidf__use_idf': (True, False),\n",
    "    'clf__max_iter': (20,),\n",
    "    'clf__alpha': (0.00001, 0.000001),\n",
    "    'clf__penalty': ('l2', 'elasticnet'),\n",
    "}\n",
    "\n",
    "# Model and fit with grid search\n",
    "gs_sgd_clf = GridSearchCV(sgd_clf, sgd_parameters_grid, cv=5, n_jobs=-1, verbose=1)\n",
    "gs_sgd_clf.fit(training_data.words, training_data.party)\n",
    "\n"
   ]
  },
  {
   "cell_type": "code",
   "execution_count": 26,
   "metadata": {},
   "outputs": [
    {
     "name": "stdout",
     "output_type": "stream",
     "text": [
      "The best score: 0.6603719181054147\n",
      "Parameters of the best model:\n",
      "N-Gram range: (1, 2)\n",
      "Alpha val: 1e-05\n",
      "              precision    recall  f1-score   support\n",
      "\n",
      "           C       0.58      0.40      0.47       671\n",
      "          KD       0.56      0.30      0.39       821\n",
      "           L       0.52      0.38      0.44       560\n",
      "           M       0.51      0.64      0.57      1644\n",
      "          MP       0.39      0.41      0.40       809\n",
      "           S       0.60      0.80      0.68      2773\n",
      "          SD       0.64      0.47      0.54      1060\n",
      "           V       0.66      0.40      0.50       950\n",
      "\n",
      "    accuracy                           0.56      9288\n",
      "   macro avg       0.56      0.48      0.50      9288\n",
      "weighted avg       0.57      0.56      0.55      9288\n",
      "\n"
     ]
    }
   ],
   "source": [
    "# Print the results of your best model, along with the parameter values that yielded these results.\n",
    "print(f'The best score: {gs_sgd_clf.best_score_}')\n",
    "print('Parameters of the best model:')\n",
    "print(f'N-Gram range:', gs_sgd_clf.best_params_['vect__ngram_range'])\n",
    "print(f'Alpha val:', gs_sgd_clf.best_params_['clf__alpha'])\n",
    "\n",
    "# Prediction\n",
    "gs_sgd_clf_pred = gs_sgd_clf.predict(test_data.words)\n",
    "\n",
    "# Classification report\n",
    "class_report_sgd = classification_report(test_data.party, gs_sgd_clf_pred)\n",
    "print(class_report_sgd)"
   ]
  },
  {
   "cell_type": "markdown",
   "metadata": {},
   "source": [
    "*Best result found with gridsearchCV using a SGD classifier which gave us a f1 score of 50%!*\n",
    "\n",
    "*Note: gridsearchCV took a VERY long time to tune hyperparams.*"
   ]
  },
  {
   "cell_type": "markdown",
   "metadata": {},
   "source": [
    "## Reflection questions"
   ]
  },
  {
   "cell_type": "markdown",
   "metadata": {},
   "source": [
    "The following reflection questions will help you prepare for the diagnostic test. Answer each of them in the form of a short text and put your answers in the cell below. You will get feedback on your answers from your lab assistant."
   ]
  },
  {
   "cell_type": "markdown",
   "metadata": {},
   "source": [
    "**RQ 2.1:** Summarise the results of your experiments for Problem&nbsp;2. Are your results ‘good’ or ‘bad’? How do you determine that?\n",
    "\n",
    "*Most of results were summarized above, but some concluding remarks are as follows:*\n",
    "- *The model accuracy is not the correct measure as we are dealing with a unbalanced dataset.*\n",
    "- *We should look at the F1 score which gives a clearer picture and tells us that the model is only 29% 'good'*\n",
    "\n",
    "**RQ 2.2:** Summarise the results of your experiments for Problem&nbsp;4. Would you think that your results are typical even for other classification tasks? How would *oversampling* have looked like for this task? When would you use undersampling, when oversampling?\n",
    "\n",
    "*Result summary was completed earlier. We feel that the results of the classification task would be the similar if the task was classifying something else say, images. Undersampling or oversampling are both essentially random sampling techniques which introduce a bias in our dataset to select 1 class more than the other. The datatype should not hinder the classification result for a different kind of task.* \n",
    "\n",
    "*On the question about oversampling, we would say that it depends on what kind of oversampling technique we would use. For eg, if we use random oversampling instead of random undersampling as we used here, then some samples of the minority classes would be duplicated over and over again to balance the classes. It would bias the data and increase the importance of some text/words more than others. A potential problem that can arise is that because this classification exercise lacks CONTEXT modelling, a lot of correlation that we saw between speeches of parties which focus on similar agendas can get amplified and we may see misclassification between parties that have a high correlation of speech data. If we use some other oversampling technique like SMOTE then we may avoid overfitting and correlation led issues because then we would be not be resampling the text speeches but rather the vector representations and their nearest neighbors. This might lead to slightly better results.*\n",
    "\n",
    "*We would mostly use undersampling when we want to avoid computational overheads. Oversampling would be a preferred option because it allows us to train the model on the maximum possible data. In htis case by using random undersampling, we have to accepted the fact that we may be leaving out some important samples from our training.*\n",
    "\n",
    "**RQ 2.3:** Which model performed best in your experiments for Problem&nbsp;6? Why is it important to do a hyperparameter search before drawing conclusions about the performance of a model? Why is it often not done, anyway? Why should you never tune hyperparameters on the test set?\n",
    "\n",
    "*We were able to improve the model f1 score from 0.39 to 0.42, the results of the grid search CV were shared above. Verbosely, the setting that led to a better result were: additive smoothing parameter, $\\alpha = 0.1$, bag-of-words assumption: only unigrams i.e. (1,1); and set-of-words model: False i.e. the importance of the frequency of the words results in a better model than just occurance of a word. Hyperparameter tuning is important because the data being used to train the model can be sensitive to different values of the parameters of functions at various steps like pre-processing, fitting etc. To maximize the performance of a model, we should try to find the optimum parameters which can give us the highest accuracy scores on the validation data. Tuning hyperparameters can be cumbersome and computationally expensive. For eg, while training the logistic regression classifier with CV in problem7, I had to wait for a very long time for convergence and that too didn't give me a manifold increase in the model accuracy. Finally, hyperparameter tuning should always be done a validation set and the test set should be reserved for final testing. Test data is supposed to be unseen that gives us the closest view on how the model will perform on unseen real world data. If we tune on test data, it may improve the performance on the current data but the model may perform worse when it is put into production.*"
   ]
  },
  {
   "cell_type": "markdown",
   "metadata": {},
   "source": [
    "*TODO: Enter your answers here*"
   ]
  },
  {
   "cell_type": "markdown",
   "metadata": {},
   "source": [
    "**Congratulations on finishing L2! 👍**"
   ]
  }
 ],
 "metadata": {
  "kernelspec": {
   "display_name": "Python 3 (ipykernel)",
   "language": "python",
   "name": "python3"
  },
  "language_info": {
   "codemirror_mode": {
    "name": "ipython",
    "version": 3
   },
   "file_extension": ".py",
   "mimetype": "text/x-python",
   "name": "python",
   "nbconvert_exporter": "python",
   "pygments_lexer": "ipython3",
   "version": "3.9.7"
  }
 },
 "nbformat": 4,
 "nbformat_minor": 2
}
