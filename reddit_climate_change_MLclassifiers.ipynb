{
  "nbformat": 4,
  "nbformat_minor": 0,
  "metadata": {
    "colab": {
      "provenance": [],
      "toc_visible": true,
      "authorship_tag": "ABX9TyNIcIO6mixQse7aNGeGI3Hp",
      "include_colab_link": true
    },
    "kernelspec": {
      "name": "python3",
      "display_name": "Python 3"
    },
    "language_info": {
      "name": "python"
    },
    "accelerator": "GPU",
    "gpuClass": "standard"
  },
  "cells": [
    {
      "cell_type": "markdown",
      "metadata": {
        "id": "view-in-github",
        "colab_type": "text"
      },
      "source": [
        "<a href=\"https://colab.research.google.com/github/JS2387/text-mining/blob/master/reddit_climate_change_MLclassifiers.ipynb\" target=\"_parent\"><img src=\"https://colab.research.google.com/assets/colab-badge.svg\" alt=\"Open In Colab\"/></a>"
      ]
    },
    {
      "cell_type": "code",
      "source": [
        "!pip install transformers"
      ],
      "metadata": {
        "colab": {
          "base_uri": "https://localhost:8080/"
        },
        "id": "QlnjRtqAJbQY",
        "outputId": "e2478105-3267-4942-a55d-2425b488d22c"
      },
      "execution_count": null,
      "outputs": [
        {
          "output_type": "stream",
          "name": "stdout",
          "text": [
            "Looking in indexes: https://pypi.org/simple, https://us-python.pkg.dev/colab-wheels/public/simple/\n",
            "Collecting transformers\n",
            "  Downloading transformers-4.25.1-py3-none-any.whl (5.8 MB)\n",
            "\u001b[2K     \u001b[90m━━━━━━━━━━━━━━━━━━━━━━━━━━━━━━━━━━━━━━━━\u001b[0m \u001b[32m5.8/5.8 MB\u001b[0m \u001b[31m25.7 MB/s\u001b[0m eta \u001b[36m0:00:00\u001b[0m\n",
            "\u001b[?25hRequirement already satisfied: pyyaml>=5.1 in /usr/local/lib/python3.8/dist-packages (from transformers) (6.0)\n",
            "Requirement already satisfied: regex!=2019.12.17 in /usr/local/lib/python3.8/dist-packages (from transformers) (2022.6.2)\n",
            "Requirement already satisfied: numpy>=1.17 in /usr/local/lib/python3.8/dist-packages (from transformers) (1.21.6)\n",
            "Requirement already satisfied: filelock in /usr/local/lib/python3.8/dist-packages (from transformers) (3.9.0)\n",
            "Requirement already satisfied: packaging>=20.0 in /usr/local/lib/python3.8/dist-packages (from transformers) (21.3)\n",
            "Collecting tokenizers!=0.11.3,<0.14,>=0.11.1\n",
            "  Downloading tokenizers-0.13.2-cp38-cp38-manylinux_2_17_x86_64.manylinux2014_x86_64.whl (7.6 MB)\n",
            "\u001b[2K     \u001b[90m━━━━━━━━━━━━━━━━━━━━━━━━━━━━━━━━━━━━━━━━\u001b[0m \u001b[32m7.6/7.6 MB\u001b[0m \u001b[31m59.3 MB/s\u001b[0m eta \u001b[36m0:00:00\u001b[0m\n",
            "\u001b[?25hRequirement already satisfied: tqdm>=4.27 in /usr/local/lib/python3.8/dist-packages (from transformers) (4.64.1)\n",
            "Collecting huggingface-hub<1.0,>=0.10.0\n",
            "  Downloading huggingface_hub-0.11.1-py3-none-any.whl (182 kB)\n",
            "\u001b[2K     \u001b[90m━━━━━━━━━━━━━━━━━━━━━━━━━━━━━━━━━━━━━━━\u001b[0m \u001b[32m182.4/182.4 KB\u001b[0m \u001b[31m5.2 MB/s\u001b[0m eta \u001b[36m0:00:00\u001b[0m\n",
            "\u001b[?25hRequirement already satisfied: requests in /usr/local/lib/python3.8/dist-packages (from transformers) (2.25.1)\n",
            "Requirement already satisfied: typing-extensions>=3.7.4.3 in /usr/local/lib/python3.8/dist-packages (from huggingface-hub<1.0,>=0.10.0->transformers) (4.4.0)\n",
            "Requirement already satisfied: pyparsing!=3.0.5,>=2.0.2 in /usr/local/lib/python3.8/dist-packages (from packaging>=20.0->transformers) (3.0.9)\n",
            "Requirement already satisfied: certifi>=2017.4.17 in /usr/local/lib/python3.8/dist-packages (from requests->transformers) (2022.12.7)\n",
            "Requirement already satisfied: chardet<5,>=3.0.2 in /usr/local/lib/python3.8/dist-packages (from requests->transformers) (4.0.0)\n",
            "Requirement already satisfied: urllib3<1.27,>=1.21.1 in /usr/local/lib/python3.8/dist-packages (from requests->transformers) (1.24.3)\n",
            "Requirement already satisfied: idna<3,>=2.5 in /usr/local/lib/python3.8/dist-packages (from requests->transformers) (2.10)\n",
            "Installing collected packages: tokenizers, huggingface-hub, transformers\n",
            "Successfully installed huggingface-hub-0.11.1 tokenizers-0.13.2 transformers-4.25.1\n"
          ]
        }
      ]
    },
    {
      "cell_type": "code",
      "execution_count": 1,
      "metadata": {
        "colab": {
          "base_uri": "https://localhost:8080/"
        },
        "id": "n9G_Qfyd7NYg",
        "outputId": "36cef7f6-33ce-44ae-810d-b777f12261a0"
      },
      "outputs": [
        {
          "output_type": "stream",
          "name": "stdout",
          "text": [
            "Mounted at /content/drive\n"
          ]
        }
      ],
      "source": [
        "from google.colab import drive\n",
        "drive.mount('/content/drive', force_remount = True)"
      ]
    },
    {
      "cell_type": "code",
      "source": [
        "import pandas as pd"
      ],
      "metadata": {
        "id": "wRa8QDRy8zX0"
      },
      "execution_count": 2,
      "outputs": []
    },
    {
      "cell_type": "code",
      "source": [
        "path = \"/content/drive/MyDrive/Colab Notebooks/the-reddit-climate-change-dataset-comments.csv\"\n",
        "data = pd.read_csv(path)"
      ],
      "metadata": {
        "id": "9CGQaPKt7-Oa"
      },
      "execution_count": 3,
      "outputs": []
    },
    {
      "cell_type": "code",
      "source": [
        "path = \"/content/drive/MyDrive/Colab Notebooks/cleaned_comments.csv\"\n",
        "df = pd.read_csv(path)"
      ],
      "metadata": {
        "id": "joPrYC3YWT-D"
      },
      "execution_count": null,
      "outputs": []
    },
    {
      "cell_type": "code",
      "source": [
        "import numpy as np\n",
        "import spacy\n",
        "from sklearn.feature_extraction.text import TfidfVectorizer, CountVectorizer \n",
        "from sklearn.model_selection import train_test_split\n",
        "from sklearn.metrics import classification_report, accuracy_score, roc_auc_score, confusion_matrix, roc_curve, auc, precision_recall_curve"
      ],
      "metadata": {
        "id": "LTi4HMxd-h5z"
      },
      "execution_count": 11,
      "outputs": []
    },
    {
      "cell_type": "code",
      "source": [
        "df = data.sample(frac = 0.02, random_state = 123)\n",
        "df = df.dropna()\n",
        "df.info()"
      ],
      "metadata": {
        "colab": {
          "base_uri": "https://localhost:8080/"
        },
        "id": "HB26JqCTVk0R",
        "outputId": "6784ec6a-408e-4344-9ef7-fa45c0e28d93"
      },
      "execution_count": 7,
      "outputs": [
        {
          "output_type": "stream",
          "name": "stdout",
          "text": [
            "<class 'pandas.core.frame.DataFrame'>\n",
            "Int64Index: 90898 entries, 1857107 to 1953982\n",
            "Data columns (total 10 columns):\n",
            " #   Column          Non-Null Count  Dtype  \n",
            "---  ------          --------------  -----  \n",
            " 0   type            90898 non-null  object \n",
            " 1   id              90898 non-null  object \n",
            " 2   subreddit.id    90898 non-null  object \n",
            " 3   subreddit.name  90898 non-null  object \n",
            " 4   subreddit.nsfw  90898 non-null  bool   \n",
            " 5   created_utc     90898 non-null  int64  \n",
            " 6   permalink       90898 non-null  object \n",
            " 7   body            90898 non-null  object \n",
            " 8   sentiment       90898 non-null  float64\n",
            " 9   score           90898 non-null  int64  \n",
            "dtypes: bool(1), float64(1), int64(2), object(6)\n",
            "memory usage: 7.0+ MB\n"
          ]
        }
      ]
    },
    {
      "cell_type": "code",
      "source": [
        "def create_label(sentiment):\n",
        "    if sentiment < 0:\n",
        "        return 0 # NEGATIVE SENTIMENT\n",
        "    else:\n",
        "        return 1 # POSITIVE SENTIMENT"
      ],
      "metadata": {
        "id": "Xd1Oq4sO-pQp"
      },
      "execution_count": 8,
      "outputs": []
    },
    {
      "cell_type": "code",
      "source": [
        "df['label'] = df['sentiment'].apply(create_label)\n",
        "df = df[['body', 'label']]\n",
        "df = df.reset_index(drop = True)\n",
        "df.head()"
      ],
      "metadata": {
        "colab": {
          "base_uri": "https://localhost:8080/",
          "height": 206
        },
        "id": "KB9aNStY-0sz",
        "outputId": "0e991cb7-aa44-4492-d728-7a95dc1cc5b3"
      },
      "execution_count": 9,
      "outputs": [
        {
          "output_type": "execute_result",
          "data": {
            "text/plain": [
              "                                                body  label\n",
              "0  A person's beliefs and needs shift based on ci...      1\n",
              "1  I guess I don't understand what that has to do...      1\n",
              "2  &gt;climate change will be way worse\\n\\nThere ...      0\n",
              "3  The fire itself may have been caused by climat...      0\n",
              "4  This has been a really interesting and informa...      1"
            ],
            "text/html": [
              "\n",
              "  <div id=\"df-c7ec4d71-847d-4ddf-ad5c-845f48f73d2e\">\n",
              "    <div class=\"colab-df-container\">\n",
              "      <div>\n",
              "<style scoped>\n",
              "    .dataframe tbody tr th:only-of-type {\n",
              "        vertical-align: middle;\n",
              "    }\n",
              "\n",
              "    .dataframe tbody tr th {\n",
              "        vertical-align: top;\n",
              "    }\n",
              "\n",
              "    .dataframe thead th {\n",
              "        text-align: right;\n",
              "    }\n",
              "</style>\n",
              "<table border=\"1\" class=\"dataframe\">\n",
              "  <thead>\n",
              "    <tr style=\"text-align: right;\">\n",
              "      <th></th>\n",
              "      <th>body</th>\n",
              "      <th>label</th>\n",
              "    </tr>\n",
              "  </thead>\n",
              "  <tbody>\n",
              "    <tr>\n",
              "      <th>0</th>\n",
              "      <td>A person's beliefs and needs shift based on ci...</td>\n",
              "      <td>1</td>\n",
              "    </tr>\n",
              "    <tr>\n",
              "      <th>1</th>\n",
              "      <td>I guess I don't understand what that has to do...</td>\n",
              "      <td>1</td>\n",
              "    </tr>\n",
              "    <tr>\n",
              "      <th>2</th>\n",
              "      <td>&amp;gt;climate change will be way worse\\n\\nThere ...</td>\n",
              "      <td>0</td>\n",
              "    </tr>\n",
              "    <tr>\n",
              "      <th>3</th>\n",
              "      <td>The fire itself may have been caused by climat...</td>\n",
              "      <td>0</td>\n",
              "    </tr>\n",
              "    <tr>\n",
              "      <th>4</th>\n",
              "      <td>This has been a really interesting and informa...</td>\n",
              "      <td>1</td>\n",
              "    </tr>\n",
              "  </tbody>\n",
              "</table>\n",
              "</div>\n",
              "      <button class=\"colab-df-convert\" onclick=\"convertToInteractive('df-c7ec4d71-847d-4ddf-ad5c-845f48f73d2e')\"\n",
              "              title=\"Convert this dataframe to an interactive table.\"\n",
              "              style=\"display:none;\">\n",
              "        \n",
              "  <svg xmlns=\"http://www.w3.org/2000/svg\" height=\"24px\"viewBox=\"0 0 24 24\"\n",
              "       width=\"24px\">\n",
              "    <path d=\"M0 0h24v24H0V0z\" fill=\"none\"/>\n",
              "    <path d=\"M18.56 5.44l.94 2.06.94-2.06 2.06-.94-2.06-.94-.94-2.06-.94 2.06-2.06.94zm-11 1L8.5 8.5l.94-2.06 2.06-.94-2.06-.94L8.5 2.5l-.94 2.06-2.06.94zm10 10l.94 2.06.94-2.06 2.06-.94-2.06-.94-.94-2.06-.94 2.06-2.06.94z\"/><path d=\"M17.41 7.96l-1.37-1.37c-.4-.4-.92-.59-1.43-.59-.52 0-1.04.2-1.43.59L10.3 9.45l-7.72 7.72c-.78.78-.78 2.05 0 2.83L4 21.41c.39.39.9.59 1.41.59.51 0 1.02-.2 1.41-.59l7.78-7.78 2.81-2.81c.8-.78.8-2.07 0-2.86zM5.41 20L4 18.59l7.72-7.72 1.47 1.35L5.41 20z\"/>\n",
              "  </svg>\n",
              "      </button>\n",
              "      \n",
              "  <style>\n",
              "    .colab-df-container {\n",
              "      display:flex;\n",
              "      flex-wrap:wrap;\n",
              "      gap: 12px;\n",
              "    }\n",
              "\n",
              "    .colab-df-convert {\n",
              "      background-color: #E8F0FE;\n",
              "      border: none;\n",
              "      border-radius: 50%;\n",
              "      cursor: pointer;\n",
              "      display: none;\n",
              "      fill: #1967D2;\n",
              "      height: 32px;\n",
              "      padding: 0 0 0 0;\n",
              "      width: 32px;\n",
              "    }\n",
              "\n",
              "    .colab-df-convert:hover {\n",
              "      background-color: #E2EBFA;\n",
              "      box-shadow: 0px 1px 2px rgba(60, 64, 67, 0.3), 0px 1px 3px 1px rgba(60, 64, 67, 0.15);\n",
              "      fill: #174EA6;\n",
              "    }\n",
              "\n",
              "    [theme=dark] .colab-df-convert {\n",
              "      background-color: #3B4455;\n",
              "      fill: #D2E3FC;\n",
              "    }\n",
              "\n",
              "    [theme=dark] .colab-df-convert:hover {\n",
              "      background-color: #434B5C;\n",
              "      box-shadow: 0px 1px 3px 1px rgba(0, 0, 0, 0.15);\n",
              "      filter: drop-shadow(0px 1px 2px rgba(0, 0, 0, 0.3));\n",
              "      fill: #FFFFFF;\n",
              "    }\n",
              "  </style>\n",
              "\n",
              "      <script>\n",
              "        const buttonEl =\n",
              "          document.querySelector('#df-c7ec4d71-847d-4ddf-ad5c-845f48f73d2e button.colab-df-convert');\n",
              "        buttonEl.style.display =\n",
              "          google.colab.kernel.accessAllowed ? 'block' : 'none';\n",
              "\n",
              "        async function convertToInteractive(key) {\n",
              "          const element = document.querySelector('#df-c7ec4d71-847d-4ddf-ad5c-845f48f73d2e');\n",
              "          const dataTable =\n",
              "            await google.colab.kernel.invokeFunction('convertToInteractive',\n",
              "                                                     [key], {});\n",
              "          if (!dataTable) return;\n",
              "\n",
              "          const docLinkHtml = 'Like what you see? Visit the ' +\n",
              "            '<a target=\"_blank\" href=https://colab.research.google.com/notebooks/data_table.ipynb>data table notebook</a>'\n",
              "            + ' to learn more about interactive tables.';\n",
              "          element.innerHTML = '';\n",
              "          dataTable['output_type'] = 'display_data';\n",
              "          await google.colab.output.renderOutput(dataTable, element);\n",
              "          const docLink = document.createElement('div');\n",
              "          docLink.innerHTML = docLinkHtml;\n",
              "          element.appendChild(docLink);\n",
              "        }\n",
              "      </script>\n",
              "    </div>\n",
              "  </div>\n",
              "  "
            ]
          },
          "metadata": {},
          "execution_count": 9
        }
      ]
    },
    {
      "cell_type": "code",
      "source": [
        "def roc_auc(predictions,target):\n",
        "    '''\n",
        "    This methods returns the AUC Score when given the Predictions\n",
        "    and Labels\n",
        "    '''\n",
        "    \n",
        "    fpr, tpr, thresholds = roc_curve(target, predictions)\n",
        "    roc_auc = auc(fpr, tpr)\n",
        "    return roc_auc"
      ],
      "metadata": {
        "id": "BINz3RysWXhZ"
      },
      "execution_count": 10,
      "outputs": []
    },
    {
      "cell_type": "code",
      "source": [
        "df.label.value_counts()"
      ],
      "metadata": {
        "colab": {
          "base_uri": "https://localhost:8080/"
        },
        "id": "FW_d9Ik2W_FB",
        "outputId": "1b5babf5-f821-4fd2-d2cc-4240502a391a"
      },
      "execution_count": 12,
      "outputs": [
        {
          "output_type": "execute_result",
          "data": {
            "text/plain": [
              "1    47928\n",
              "0    42970\n",
              "Name: label, dtype: int64"
            ]
          },
          "metadata": {},
          "execution_count": 12
        }
      ]
    },
    {
      "cell_type": "code",
      "source": [
        "vectorizer = CountVectorizer()\n",
        "\n",
        "X = vectorizer.fit_transform(df.body)\n",
        "X.shape"
      ],
      "metadata": {
        "colab": {
          "base_uri": "https://localhost:8080/"
        },
        "id": "UVQRS1JS-5QK",
        "outputId": "16b111ec-40c0-4663-cef1-0c4823b06994"
      },
      "execution_count": 13,
      "outputs": [
        {
          "output_type": "execute_result",
          "data": {
            "text/plain": [
              "(90898, 120674)"
            ]
          },
          "metadata": {},
          "execution_count": 13
        }
      ]
    },
    {
      "cell_type": "code",
      "source": [
        "Y = df.label"
      ],
      "metadata": {
        "id": "lN3CAvkG-_ay"
      },
      "execution_count": 14,
      "outputs": []
    },
    {
      "cell_type": "code",
      "source": [
        "X_train, X_test, Y_train, Y_test = train_test_split(X, Y, test_size = 0.5, random_state = 42, stratify = Y)"
      ],
      "metadata": {
        "id": "2s00Nd22_CPb"
      },
      "execution_count": 15,
      "outputs": []
    },
    {
      "cell_type": "code",
      "source": [
        "# Classifiers\n",
        "\n",
        "from sklearn.dummy import DummyClassifier\n",
        "from sklearn.naive_bayes import MultinomialNB\n",
        "from sklearn.linear_model import LogisticRegressionCV\n",
        "from sklearn.linear_model import SGDClassifier\n",
        "from sklearn.svm import SVC\n",
        "from sklearn.ensemble import RandomForestClassifier, VotingClassifier, AdaBoostClassifier\n",
        "from sklearn.linear_model import LogisticRegression\n",
        "from xgboost import XGBClassifier\n",
        "from sklearn.metrics import classification_report\n",
        "\n",
        "# Dummy CLassifier\n",
        "#DC = DummyClassifier(strategy = 'stratified') \n",
        "\n",
        "# Naive Bayes\n",
        "clf_NB = MultinomialNB()\n",
        "\n",
        "# Logisitic Regression\n",
        "clf_LogR = LogisticRegression(max_iter=1000)\n",
        "\n",
        "# Logistic Regression with CV\n",
        "#clf_LogRCV = LogisticRegressionCV(max_iter = 1000)\n",
        "\n",
        "# SGD\n",
        "clf_sgd = SGDClassifier(tol=1e-3)\n",
        "\n",
        "# SVC\n",
        "#clf_svc = SVC(decision_function_shape = 'ovo')\n",
        "\n",
        "# Random Forest\n",
        "clf_RF = RandomForestClassifier(random_state=42, n_estimators=100)\n",
        "\n",
        "# Adaptive Boosting\n",
        "clf_AdaB = AdaBoostClassifier(random_state=42, n_estimators=100, learning_rate=0.9)\n",
        "\n",
        "# xGBoost\n",
        "clf_xGB = XGBClassifier(n_estimators=100, max_depth=10, learning_rate=0.1)\n",
        "\n",
        "# Ensemble classifier\n",
        "#ensemble_clf = VotingClassifier(estimators=[\n",
        "#    ('RF_clf', clf_RF),\n",
        "#    ('AdaB_clf', clf_AdaB),\n",
        "#    ('xGB_clf', clf_xGB)\n",
        "#    ], voting='soft')"
      ],
      "metadata": {
        "id": "y4oK13g1_Ecq"
      },
      "execution_count": 16,
      "outputs": []
    },
    {
      "cell_type": "code",
      "source": [
        "# Naive bayes\n",
        "clf_NB.fit(X_train, Y_train)\n",
        "pred_NB = clf_NB.predict(X_test)\n",
        "print(classification_report(Y_test, pred_NB))"
      ],
      "metadata": {
        "colab": {
          "base_uri": "https://localhost:8080/"
        },
        "id": "wiGcQGcw-CC-",
        "outputId": "c5d57580-e092-483e-af2c-dc1eab000d97"
      },
      "execution_count": 17,
      "outputs": [
        {
          "output_type": "stream",
          "name": "stdout",
          "text": [
            "              precision    recall  f1-score   support\n",
            "\n",
            "           0       0.64      0.78      0.71     21485\n",
            "           1       0.76      0.61      0.68     23964\n",
            "\n",
            "    accuracy                           0.69     45449\n",
            "   macro avg       0.70      0.70      0.69     45449\n",
            "weighted avg       0.70      0.69      0.69     45449\n",
            "\n"
          ]
        }
      ]
    },
    {
      "cell_type": "code",
      "source": [
        "# Logisitic Regression\n",
        "clf_LogR.fit(X_train, Y_train)\n",
        "pred_LogR = clf_LogR.predict(X_test)\n",
        "print(classification_report(Y_test, pred_LogR))"
      ],
      "metadata": {
        "colab": {
          "base_uri": "https://localhost:8080/"
        },
        "id": "AqgpE5XxX03S",
        "outputId": "ece6298e-9063-499f-aea1-40f7805aa2c7"
      },
      "execution_count": 18,
      "outputs": [
        {
          "output_type": "stream",
          "name": "stdout",
          "text": [
            "              precision    recall  f1-score   support\n",
            "\n",
            "           0       0.81      0.78      0.79     21485\n",
            "           1       0.81      0.84      0.82     23964\n",
            "\n",
            "    accuracy                           0.81     45449\n",
            "   macro avg       0.81      0.81      0.81     45449\n",
            "weighted avg       0.81      0.81      0.81     45449\n",
            "\n"
          ]
        }
      ]
    },
    {
      "cell_type": "code",
      "source": [
        "roc_auc(pred_LogR, Y_test)"
      ],
      "metadata": {
        "colab": {
          "base_uri": "https://localhost:8080/"
        },
        "id": "o9Avzbta5flf",
        "outputId": "a14b5185-8cdb-43d0-d0ab-aee448296255"
      },
      "execution_count": 25,
      "outputs": [
        {
          "output_type": "execute_result",
          "data": {
            "text/plain": [
              "0.8075416203973946"
            ]
          },
          "metadata": {},
          "execution_count": 25
        }
      ]
    },
    {
      "cell_type": "code",
      "source": [
        "# Stochastic Gradient Descent\n",
        "clf_sgd.fit(X_train, Y_train)\n",
        "pred_sgd = clf_sgd.predict(X_test)\n",
        "print(classification_report(Y_test, pred_sgd))"
      ],
      "metadata": {
        "colab": {
          "base_uri": "https://localhost:8080/"
        },
        "id": "l9r2qkPgDT3G",
        "outputId": "6d4d752d-2566-4ab2-ffc8-8e3ab3af329f"
      },
      "execution_count": 19,
      "outputs": [
        {
          "output_type": "stream",
          "name": "stdout",
          "text": [
            "              precision    recall  f1-score   support\n",
            "\n",
            "           0       0.85      0.71      0.77     21485\n",
            "           1       0.77      0.89      0.83     23964\n",
            "\n",
            "    accuracy                           0.80     45449\n",
            "   macro avg       0.81      0.80      0.80     45449\n",
            "weighted avg       0.81      0.80      0.80     45449\n",
            "\n"
          ]
        }
      ]
    },
    {
      "cell_type": "code",
      "source": [
        "roc_auc(pred_sgd, Y_test)"
      ],
      "metadata": {
        "colab": {
          "base_uri": "https://localhost:8080/"
        },
        "id": "1LQ-0LxA5tDP",
        "outputId": "6643109a-ce4a-44e5-c654-30421677652d"
      },
      "execution_count": 26,
      "outputs": [
        {
          "output_type": "execute_result",
          "data": {
            "text/plain": [
              "0.7978364131023158"
            ]
          },
          "metadata": {},
          "execution_count": 26
        }
      ]
    },
    {
      "cell_type": "code",
      "source": [
        "# SGD with Grid Search CV\n",
        "\n",
        "from sklearn.model_selection import GridSearchCV\n",
        "\n",
        "sgdCV_parameters_grid = {\n",
        "    'max_iter': (20,),\n",
        "    'alpha': (0.00001, 0.000001),\n",
        "    'penalty': ('l2', 'elasticnet'),\n",
        "}\n",
        "\n",
        "# Model and fit with grid search\n",
        "gs_sgd_clf = GridSearchCV(clf_sgd, sgdCV_parameters_grid, cv=5, n_jobs=-1, verbose=1)\n",
        "gs_sgd_clf.fit(X_train, Y_train)"
      ],
      "metadata": {
        "colab": {
          "base_uri": "https://localhost:8080/"
        },
        "id": "JvYRxvU4_egt",
        "outputId": "95951ee0-dbdf-4c09-c436-787d9405ccbe"
      },
      "execution_count": 23,
      "outputs": [
        {
          "output_type": "stream",
          "name": "stdout",
          "text": [
            "Fitting 5 folds for each of 4 candidates, totalling 20 fits\n"
          ]
        },
        {
          "output_type": "stream",
          "name": "stderr",
          "text": [
            "/usr/local/lib/python3.8/dist-packages/sklearn/linear_model/_stochastic_gradient.py:696: ConvergenceWarning: Maximum number of iteration reached before convergence. Consider increasing max_iter to improve the fit.\n",
            "  warnings.warn(\n"
          ]
        },
        {
          "output_type": "execute_result",
          "data": {
            "text/plain": [
              "GridSearchCV(cv=5, estimator=SGDClassifier(), n_jobs=-1,\n",
              "             param_grid={'alpha': (1e-05, 1e-06), 'max_iter': (20,),\n",
              "                         'penalty': ('l2', 'elasticnet')},\n",
              "             verbose=1)"
            ]
          },
          "metadata": {},
          "execution_count": 23
        }
      ]
    },
    {
      "cell_type": "code",
      "source": [
        "# results of the best model along with the parameter values\n",
        "print(f'The best score: {gs_sgd_clf.best_score_}')\n",
        "print(f'Alpha val:', gs_sgd_clf.best_params_['alpha'])\n",
        "\n",
        "# Prediction\n",
        "gs_sgd_clf_pred = gs_sgd_clf.predict(X_test)\n",
        "\n",
        "# Classification report\n",
        "class_report_sgd = classification_report(Y_test, gs_sgd_clf_pred)\n",
        "print(class_report_sgd)"
      ],
      "metadata": {
        "colab": {
          "base_uri": "https://localhost:8080/"
        },
        "id": "qNRQtSZHApXu",
        "outputId": "2e974f8b-9e98-4220-d4a8-e185fe5c2084"
      },
      "execution_count": 24,
      "outputs": [
        {
          "output_type": "stream",
          "name": "stdout",
          "text": [
            "The best score: 0.7854078159493801\n",
            "Alpha val: 1e-05\n",
            "              precision    recall  f1-score   support\n",
            "\n",
            "           0       0.79      0.76      0.77     21485\n",
            "           1       0.79      0.82      0.81     23964\n",
            "\n",
            "    accuracy                           0.79     45449\n",
            "   macro avg       0.79      0.79      0.79     45449\n",
            "weighted avg       0.79      0.79      0.79     45449\n",
            "\n"
          ]
        }
      ]
    },
    {
      "cell_type": "code",
      "source": [
        "roc_auc(gs_sgd_clf_pred, Y_test)"
      ],
      "metadata": {
        "colab": {
          "base_uri": "https://localhost:8080/"
        },
        "id": "Ral7Vlbr6Ayv",
        "outputId": "f4d93858-36e6-4143-9c04-b5a4bea934c4"
      },
      "execution_count": 30,
      "outputs": [
        {
          "output_type": "execute_result",
          "data": {
            "text/plain": [
              "0.7898588603174718"
            ]
          },
          "metadata": {},
          "execution_count": 30
        }
      ]
    },
    {
      "cell_type": "code",
      "source": [
        "# Random Forest\n",
        "clf_RF.fit(X_train, Y_train)\n",
        "pred_RF = clf_RF.predict(X_test)\n",
        "print(classification_report(Y_test, pred_RF))"
      ],
      "metadata": {
        "colab": {
          "base_uri": "https://localhost:8080/"
        },
        "id": "Gb8cyP0jXpbR",
        "outputId": "f7fc97f0-bb36-4fe6-941c-073919d83ded"
      },
      "execution_count": 20,
      "outputs": [
        {
          "output_type": "stream",
          "name": "stdout",
          "text": [
            "              precision    recall  f1-score   support\n",
            "\n",
            "           0       0.75      0.67      0.71     21485\n",
            "           1       0.73      0.81      0.77     23964\n",
            "\n",
            "    accuracy                           0.74     45449\n",
            "   macro avg       0.74      0.74      0.74     45449\n",
            "weighted avg       0.74      0.74      0.74     45449\n",
            "\n"
          ]
        }
      ]
    },
    {
      "cell_type": "code",
      "source": [
        "roc_auc(pred_RF, Y_test)"
      ],
      "metadata": {
        "colab": {
          "base_uri": "https://localhost:8080/"
        },
        "id": "44eqNvyM5zVP",
        "outputId": "3b962274-d14b-431b-c4a0-521dda648a7e"
      },
      "execution_count": 27,
      "outputs": [
        {
          "output_type": "execute_result",
          "data": {
            "text/plain": [
              "0.7366926446608862"
            ]
          },
          "metadata": {},
          "execution_count": 27
        }
      ]
    },
    {
      "cell_type": "code",
      "source": [
        "# Adaptive Boosting\n",
        "clf_AdaB.fit(X_train, Y_train)\n",
        "pred_AdaB = clf_AdaB.predict(X_test)\n",
        "print(classification_report(Y_test, pred_AdaB))"
      ],
      "metadata": {
        "colab": {
          "base_uri": "https://localhost:8080/"
        },
        "id": "-iVOmN_iXq5Q",
        "outputId": "c4fc19fe-2507-47bc-880f-3a4ee2a41599"
      },
      "execution_count": 21,
      "outputs": [
        {
          "output_type": "stream",
          "name": "stdout",
          "text": [
            "              precision    recall  f1-score   support\n",
            "\n",
            "           0       0.77      0.63      0.69     21485\n",
            "           1       0.71      0.83      0.77     23964\n",
            "\n",
            "    accuracy                           0.73     45449\n",
            "   macro avg       0.74      0.73      0.73     45449\n",
            "weighted avg       0.74      0.73      0.73     45449\n",
            "\n"
          ]
        }
      ]
    },
    {
      "cell_type": "code",
      "source": [
        "roc_auc(pred_AdaB, Y_test)"
      ],
      "metadata": {
        "colab": {
          "base_uri": "https://localhost:8080/"
        },
        "id": "K8C3cGEf52sf",
        "outputId": "0a0dd727-b84f-46bc-81c2-4eed5df70c93"
      },
      "execution_count": 28,
      "outputs": [
        {
          "output_type": "execute_result",
          "data": {
            "text/plain": [
              "0.7280587324629796"
            ]
          },
          "metadata": {},
          "execution_count": 28
        }
      ]
    },
    {
      "cell_type": "code",
      "source": [
        "# xGBoost\n",
        "clf_xGB.fit(X_train, Y_train)\n",
        "pred_xGB = clf_xGB.predict(X_test)\n",
        "print(classification_report(Y_test, pred_xGB))"
      ],
      "metadata": {
        "colab": {
          "base_uri": "https://localhost:8080/"
        },
        "id": "DOuO4JVGVik5",
        "outputId": "b29fcd78-86e4-4924-9bc2-1bfcb9a225d4"
      },
      "execution_count": 22,
      "outputs": [
        {
          "output_type": "stream",
          "name": "stdout",
          "text": [
            "              precision    recall  f1-score   support\n",
            "\n",
            "           0       0.76      0.65      0.70     21485\n",
            "           1       0.72      0.82      0.77     23964\n",
            "\n",
            "    accuracy                           0.74     45449\n",
            "   macro avg       0.74      0.74      0.74     45449\n",
            "weighted avg       0.74      0.74      0.74     45449\n",
            "\n"
          ]
        }
      ]
    },
    {
      "cell_type": "code",
      "source": [
        "roc_auc(pred_xGB, Y_test)"
      ],
      "metadata": {
        "id": "oWbpIRlpXJTD",
        "colab": {
          "base_uri": "https://localhost:8080/"
        },
        "outputId": "af56d756-ee7b-4d66-cdc1-3de96cfa4225"
      },
      "execution_count": 29,
      "outputs": [
        {
          "output_type": "execute_result",
          "data": {
            "text/plain": [
              "0.7353059639494149"
            ]
          },
          "metadata": {},
          "execution_count": 29
        }
      ]
    }
  ]
}